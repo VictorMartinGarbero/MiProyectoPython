{
 "cells": [
  {
   "cell_type": "code",
   "execution_count": 2,
   "id": "8131202d",
   "metadata": {
    "_cell_guid": "b1076dfc-b9ad-4769-8c92-a6c4dae69d19",
    "_uuid": "8f2839f25d086af736a60e9eeb907d3b93b6e0e5",
    "execution": {
     "iopub.execute_input": "2023-07-26T11:49:44.689998Z",
     "iopub.status.busy": "2023-07-26T11:49:44.688838Z",
     "iopub.status.idle": "2023-07-26T11:49:44.706121Z",
     "shell.execute_reply": "2023-07-26T11:49:44.704824Z"
    },
    "papermill": {
     "duration": 0.041132,
     "end_time": "2023-07-26T11:49:44.709005",
     "exception": false,
     "start_time": "2023-07-26T11:49:44.667873",
     "status": "completed"
    },
    "tags": []
   },
   "outputs": [
    {
     "name": "stdout",
     "output_type": "stream",
     "text": [
      "../data/sample_submission.csv\n",
      "../data/test.csv\n",
      "../data/train.csv\n"
     ]
    }
   ],
   "source": [
    "# This Python 3 environment comes with many helpful analytics libraries installed\n",
    "# It is defined by the kaggle/python Docker image: https://github.com/kaggle/docker-python\n",
    "# For example, here's several helpful packages to load\n",
    "\n",
    "import numpy as np # linear algebra\n",
    "import pandas as pd # data processing, CSV file I/O (e.g. pd.read_csv)\n",
    "\n",
    "# Input data files are available in the read-only \"../input/\" directory\n",
    "# For example, running this (by clicking run or pressing Shift+Enter) will list all files under the input directory\n",
    "\n",
    "import os\n",
    "for dirname, _, filenames in os.walk('../data'):\n",
    "    for filename in filenames:\n",
    "        print(os.path.join(dirname, filename))\n",
    "\n",
    "# You can write up to 20GB to the current directory (/kaggle/working/) that gets preserved as output when you create a version using \"Save & Run All\" \n",
    "# You can also write temporary files to /kaggle/temp/, but they won't be saved outside of the current session"
   ]
  },
  {
   "cell_type": "markdown",
   "id": "2bd266ed",
   "metadata": {
    "papermill": {
     "duration": 0.01781,
     "end_time": "2023-07-26T11:49:44.744997",
     "exception": false,
     "start_time": "2023-07-26T11:49:44.727187",
     "status": "completed"
    },
    "tags": []
   },
   "source": [
    "Hello everyone! This notebook represents my submission to the Spaceship Titanic competition, but also a tutorial for absolute beginners on how to approach a basic machine learning problem. First, we go through the data analysis and feature engineering process and then we test different models in order to decide which one would be the best for our problem. Moreover, because it is an absolute beginner tutorial I am going to explain each line of code presented in this notebook and thus give you also a small introduction to a few Python libraries such as Numpy, Pandas and Scikit Learn. I wish you all good luck in your coding journey!"
   ]
  },
  {
   "cell_type": "markdown",
   "id": "745a8e63",
   "metadata": {
    "papermill": {
     "duration": 0.018397,
     "end_time": "2023-07-26T11:49:44.782627",
     "exception": false,
     "start_time": "2023-07-26T11:49:44.764230",
     "status": "completed"
    },
    "tags": []
   },
   "source": [
    "> If you want to know more about a function that is presented in this notebook, please check the official documentation of each library:\n",
    "> - Pandas: https://pandas.pydata.org/docs/index.html\n",
    "> - Numpy: https://numpy.org/\n",
    "> - Scikit Learn: https://scikit-learn.org/stable/"
   ]
  },
  {
   "cell_type": "markdown",
   "id": "e1bb28b8",
   "metadata": {
    "papermill": {
     "duration": 0.018472,
     "end_time": "2023-07-26T11:49:44.819991",
     "exception": false,
     "start_time": "2023-07-26T11:49:44.801519",
     "status": "completed"
    },
    "tags": []
   },
   "source": [
    "The first step is to read the files that contain our data. Therefore, we are going to use the **read_csv** function from pandas that reads a comma-separated values (csv) file into a DataFrame. "
   ]
  },
  {
   "cell_type": "code",
   "execution_count": 3,
   "id": "c5c8c12b",
   "metadata": {
    "execution": {
     "iopub.execute_input": "2023-07-26T11:49:44.859529Z",
     "iopub.status.busy": "2023-07-26T11:49:44.858710Z",
     "iopub.status.idle": "2023-07-26T11:49:44.974287Z",
     "shell.execute_reply": "2023-07-26T11:49:44.972987Z"
    },
    "papermill": {
     "duration": 0.138918,
     "end_time": "2023-07-26T11:49:44.977698",
     "exception": false,
     "start_time": "2023-07-26T11:49:44.838780",
     "status": "completed"
    },
    "tags": []
   },
   "outputs": [],
   "source": [
    "train_data = pd.read_csv(\"../data/train.csv\")\n",
    "test_data = pd.read_csv(\"../data/test.csv\")"
   ]
  },
  {
   "cell_type": "markdown",
   "id": "841448ce",
   "metadata": {
    "papermill": {
     "duration": 0.019244,
     "end_time": "2023-07-26T11:49:45.015083",
     "exception": false,
     "start_time": "2023-07-26T11:49:44.995839",
     "status": "completed"
    },
    "tags": []
   },
   "source": [
    "# Data Analysis"
   ]
  },
  {
   "cell_type": "markdown",
   "id": "77994d00",
   "metadata": {
    "papermill": {
     "duration": 0.017653,
     "end_time": "2023-07-26T11:49:45.050805",
     "exception": false,
     "start_time": "2023-07-26T11:49:45.033152",
     "status": "completed"
    },
    "tags": []
   },
   "source": [
    "Let's get accustomed to our data. We can visualize the first rows of a DataFrame by using the **head** function. This function outputs by default the first five rows of a DataFrame. "
   ]
  },
  {
   "cell_type": "code",
   "execution_count": 4,
   "id": "1115407e",
   "metadata": {
    "execution": {
     "iopub.execute_input": "2023-07-26T11:49:45.092016Z",
     "iopub.status.busy": "2023-07-26T11:49:45.091144Z",
     "iopub.status.idle": "2023-07-26T11:49:45.128143Z",
     "shell.execute_reply": "2023-07-26T11:49:45.126955Z"
    },
    "papermill": {
     "duration": 0.060356,
     "end_time": "2023-07-26T11:49:45.130677",
     "exception": false,
     "start_time": "2023-07-26T11:49:45.070321",
     "status": "completed"
    },
    "tags": []
   },
   "outputs": [
    {
     "data": {
      "text/html": [
       "<div>\n",
       "<style scoped>\n",
       "    .dataframe tbody tr th:only-of-type {\n",
       "        vertical-align: middle;\n",
       "    }\n",
       "\n",
       "    .dataframe tbody tr th {\n",
       "        vertical-align: top;\n",
       "    }\n",
       "\n",
       "    .dataframe thead th {\n",
       "        text-align: right;\n",
       "    }\n",
       "</style>\n",
       "<table border=\"1\" class=\"dataframe\">\n",
       "  <thead>\n",
       "    <tr style=\"text-align: right;\">\n",
       "      <th></th>\n",
       "      <th>PassengerId</th>\n",
       "      <th>HomePlanet</th>\n",
       "      <th>CryoSleep</th>\n",
       "      <th>Cabin</th>\n",
       "      <th>Destination</th>\n",
       "      <th>Age</th>\n",
       "      <th>VIP</th>\n",
       "      <th>RoomService</th>\n",
       "      <th>FoodCourt</th>\n",
       "      <th>ShoppingMall</th>\n",
       "      <th>Spa</th>\n",
       "      <th>VRDeck</th>\n",
       "      <th>Name</th>\n",
       "      <th>Transported</th>\n",
       "    </tr>\n",
       "  </thead>\n",
       "  <tbody>\n",
       "    <tr>\n",
       "      <th>0</th>\n",
       "      <td>0001_01</td>\n",
       "      <td>Europa</td>\n",
       "      <td>False</td>\n",
       "      <td>B/0/P</td>\n",
       "      <td>TRAPPIST-1e</td>\n",
       "      <td>39.0</td>\n",
       "      <td>False</td>\n",
       "      <td>0.0</td>\n",
       "      <td>0.0</td>\n",
       "      <td>0.0</td>\n",
       "      <td>0.0</td>\n",
       "      <td>0.0</td>\n",
       "      <td>Maham Ofracculy</td>\n",
       "      <td>False</td>\n",
       "    </tr>\n",
       "    <tr>\n",
       "      <th>1</th>\n",
       "      <td>0002_01</td>\n",
       "      <td>Earth</td>\n",
       "      <td>False</td>\n",
       "      <td>F/0/S</td>\n",
       "      <td>TRAPPIST-1e</td>\n",
       "      <td>24.0</td>\n",
       "      <td>False</td>\n",
       "      <td>109.0</td>\n",
       "      <td>9.0</td>\n",
       "      <td>25.0</td>\n",
       "      <td>549.0</td>\n",
       "      <td>44.0</td>\n",
       "      <td>Juanna Vines</td>\n",
       "      <td>True</td>\n",
       "    </tr>\n",
       "    <tr>\n",
       "      <th>2</th>\n",
       "      <td>0003_01</td>\n",
       "      <td>Europa</td>\n",
       "      <td>False</td>\n",
       "      <td>A/0/S</td>\n",
       "      <td>TRAPPIST-1e</td>\n",
       "      <td>58.0</td>\n",
       "      <td>True</td>\n",
       "      <td>43.0</td>\n",
       "      <td>3576.0</td>\n",
       "      <td>0.0</td>\n",
       "      <td>6715.0</td>\n",
       "      <td>49.0</td>\n",
       "      <td>Altark Susent</td>\n",
       "      <td>False</td>\n",
       "    </tr>\n",
       "    <tr>\n",
       "      <th>3</th>\n",
       "      <td>0003_02</td>\n",
       "      <td>Europa</td>\n",
       "      <td>False</td>\n",
       "      <td>A/0/S</td>\n",
       "      <td>TRAPPIST-1e</td>\n",
       "      <td>33.0</td>\n",
       "      <td>False</td>\n",
       "      <td>0.0</td>\n",
       "      <td>1283.0</td>\n",
       "      <td>371.0</td>\n",
       "      <td>3329.0</td>\n",
       "      <td>193.0</td>\n",
       "      <td>Solam Susent</td>\n",
       "      <td>False</td>\n",
       "    </tr>\n",
       "    <tr>\n",
       "      <th>4</th>\n",
       "      <td>0004_01</td>\n",
       "      <td>Earth</td>\n",
       "      <td>False</td>\n",
       "      <td>F/1/S</td>\n",
       "      <td>TRAPPIST-1e</td>\n",
       "      <td>16.0</td>\n",
       "      <td>False</td>\n",
       "      <td>303.0</td>\n",
       "      <td>70.0</td>\n",
       "      <td>151.0</td>\n",
       "      <td>565.0</td>\n",
       "      <td>2.0</td>\n",
       "      <td>Willy Santantines</td>\n",
       "      <td>True</td>\n",
       "    </tr>\n",
       "  </tbody>\n",
       "</table>\n",
       "</div>"
      ],
      "text/plain": [
       "  PassengerId HomePlanet CryoSleep  Cabin  Destination   Age    VIP  \\\n",
       "0     0001_01     Europa     False  B/0/P  TRAPPIST-1e  39.0  False   \n",
       "1     0002_01      Earth     False  F/0/S  TRAPPIST-1e  24.0  False   \n",
       "2     0003_01     Europa     False  A/0/S  TRAPPIST-1e  58.0   True   \n",
       "3     0003_02     Europa     False  A/0/S  TRAPPIST-1e  33.0  False   \n",
       "4     0004_01      Earth     False  F/1/S  TRAPPIST-1e  16.0  False   \n",
       "\n",
       "   RoomService  FoodCourt  ShoppingMall     Spa  VRDeck               Name  \\\n",
       "0          0.0        0.0           0.0     0.0     0.0    Maham Ofracculy   \n",
       "1        109.0        9.0          25.0   549.0    44.0       Juanna Vines   \n",
       "2         43.0     3576.0           0.0  6715.0    49.0      Altark Susent   \n",
       "3          0.0     1283.0         371.0  3329.0   193.0       Solam Susent   \n",
       "4        303.0       70.0         151.0   565.0     2.0  Willy Santantines   \n",
       "\n",
       "   Transported  \n",
       "0        False  \n",
       "1         True  \n",
       "2        False  \n",
       "3        False  \n",
       "4         True  "
      ]
     },
     "execution_count": 4,
     "metadata": {},
     "output_type": "execute_result"
    }
   ],
   "source": [
    "train_data.head()"
   ]
  },
  {
   "cell_type": "markdown",
   "id": "d83980f1",
   "metadata": {
    "papermill": {
     "duration": 0.018093,
     "end_time": "2023-07-26T11:49:45.167171",
     "exception": false,
     "start_time": "2023-07-26T11:49:45.149078",
     "status": "completed"
    },
    "tags": []
   },
   "source": [
    "If you want to display more than five rows you can change the number between the brackets."
   ]
  },
  {
   "cell_type": "code",
   "execution_count": 5,
   "id": "b6569d4f",
   "metadata": {
    "execution": {
     "iopub.execute_input": "2023-07-26T11:49:45.205684Z",
     "iopub.status.busy": "2023-07-26T11:49:45.205169Z",
     "iopub.status.idle": "2023-07-26T11:49:45.234598Z",
     "shell.execute_reply": "2023-07-26T11:49:45.233349Z"
    },
    "papermill": {
     "duration": 0.051694,
     "end_time": "2023-07-26T11:49:45.237046",
     "exception": false,
     "start_time": "2023-07-26T11:49:45.185352",
     "status": "completed"
    },
    "tags": []
   },
   "outputs": [
    {
     "data": {
      "text/html": [
       "<div>\n",
       "<style scoped>\n",
       "    .dataframe tbody tr th:only-of-type {\n",
       "        vertical-align: middle;\n",
       "    }\n",
       "\n",
       "    .dataframe tbody tr th {\n",
       "        vertical-align: top;\n",
       "    }\n",
       "\n",
       "    .dataframe thead th {\n",
       "        text-align: right;\n",
       "    }\n",
       "</style>\n",
       "<table border=\"1\" class=\"dataframe\">\n",
       "  <thead>\n",
       "    <tr style=\"text-align: right;\">\n",
       "      <th></th>\n",
       "      <th>PassengerId</th>\n",
       "      <th>HomePlanet</th>\n",
       "      <th>CryoSleep</th>\n",
       "      <th>Cabin</th>\n",
       "      <th>Destination</th>\n",
       "      <th>Age</th>\n",
       "      <th>VIP</th>\n",
       "      <th>RoomService</th>\n",
       "      <th>FoodCourt</th>\n",
       "      <th>ShoppingMall</th>\n",
       "      <th>Spa</th>\n",
       "      <th>VRDeck</th>\n",
       "      <th>Name</th>\n",
       "      <th>Transported</th>\n",
       "    </tr>\n",
       "  </thead>\n",
       "  <tbody>\n",
       "    <tr>\n",
       "      <th>0</th>\n",
       "      <td>0001_01</td>\n",
       "      <td>Europa</td>\n",
       "      <td>False</td>\n",
       "      <td>B/0/P</td>\n",
       "      <td>TRAPPIST-1e</td>\n",
       "      <td>39.0</td>\n",
       "      <td>False</td>\n",
       "      <td>0.0</td>\n",
       "      <td>0.0</td>\n",
       "      <td>0.0</td>\n",
       "      <td>0.0</td>\n",
       "      <td>0.0</td>\n",
       "      <td>Maham Ofracculy</td>\n",
       "      <td>False</td>\n",
       "    </tr>\n",
       "    <tr>\n",
       "      <th>1</th>\n",
       "      <td>0002_01</td>\n",
       "      <td>Earth</td>\n",
       "      <td>False</td>\n",
       "      <td>F/0/S</td>\n",
       "      <td>TRAPPIST-1e</td>\n",
       "      <td>24.0</td>\n",
       "      <td>False</td>\n",
       "      <td>109.0</td>\n",
       "      <td>9.0</td>\n",
       "      <td>25.0</td>\n",
       "      <td>549.0</td>\n",
       "      <td>44.0</td>\n",
       "      <td>Juanna Vines</td>\n",
       "      <td>True</td>\n",
       "    </tr>\n",
       "    <tr>\n",
       "      <th>2</th>\n",
       "      <td>0003_01</td>\n",
       "      <td>Europa</td>\n",
       "      <td>False</td>\n",
       "      <td>A/0/S</td>\n",
       "      <td>TRAPPIST-1e</td>\n",
       "      <td>58.0</td>\n",
       "      <td>True</td>\n",
       "      <td>43.0</td>\n",
       "      <td>3576.0</td>\n",
       "      <td>0.0</td>\n",
       "      <td>6715.0</td>\n",
       "      <td>49.0</td>\n",
       "      <td>Altark Susent</td>\n",
       "      <td>False</td>\n",
       "    </tr>\n",
       "    <tr>\n",
       "      <th>3</th>\n",
       "      <td>0003_02</td>\n",
       "      <td>Europa</td>\n",
       "      <td>False</td>\n",
       "      <td>A/0/S</td>\n",
       "      <td>TRAPPIST-1e</td>\n",
       "      <td>33.0</td>\n",
       "      <td>False</td>\n",
       "      <td>0.0</td>\n",
       "      <td>1283.0</td>\n",
       "      <td>371.0</td>\n",
       "      <td>3329.0</td>\n",
       "      <td>193.0</td>\n",
       "      <td>Solam Susent</td>\n",
       "      <td>False</td>\n",
       "    </tr>\n",
       "    <tr>\n",
       "      <th>4</th>\n",
       "      <td>0004_01</td>\n",
       "      <td>Earth</td>\n",
       "      <td>False</td>\n",
       "      <td>F/1/S</td>\n",
       "      <td>TRAPPIST-1e</td>\n",
       "      <td>16.0</td>\n",
       "      <td>False</td>\n",
       "      <td>303.0</td>\n",
       "      <td>70.0</td>\n",
       "      <td>151.0</td>\n",
       "      <td>565.0</td>\n",
       "      <td>2.0</td>\n",
       "      <td>Willy Santantines</td>\n",
       "      <td>True</td>\n",
       "    </tr>\n",
       "    <tr>\n",
       "      <th>5</th>\n",
       "      <td>0005_01</td>\n",
       "      <td>Earth</td>\n",
       "      <td>False</td>\n",
       "      <td>F/0/P</td>\n",
       "      <td>PSO J318.5-22</td>\n",
       "      <td>44.0</td>\n",
       "      <td>False</td>\n",
       "      <td>0.0</td>\n",
       "      <td>483.0</td>\n",
       "      <td>0.0</td>\n",
       "      <td>291.0</td>\n",
       "      <td>0.0</td>\n",
       "      <td>Sandie Hinetthews</td>\n",
       "      <td>True</td>\n",
       "    </tr>\n",
       "    <tr>\n",
       "      <th>6</th>\n",
       "      <td>0006_01</td>\n",
       "      <td>Earth</td>\n",
       "      <td>False</td>\n",
       "      <td>F/2/S</td>\n",
       "      <td>TRAPPIST-1e</td>\n",
       "      <td>26.0</td>\n",
       "      <td>False</td>\n",
       "      <td>42.0</td>\n",
       "      <td>1539.0</td>\n",
       "      <td>3.0</td>\n",
       "      <td>0.0</td>\n",
       "      <td>0.0</td>\n",
       "      <td>Billex Jacostaffey</td>\n",
       "      <td>True</td>\n",
       "    </tr>\n",
       "    <tr>\n",
       "      <th>7</th>\n",
       "      <td>0006_02</td>\n",
       "      <td>Earth</td>\n",
       "      <td>True</td>\n",
       "      <td>G/0/S</td>\n",
       "      <td>TRAPPIST-1e</td>\n",
       "      <td>28.0</td>\n",
       "      <td>False</td>\n",
       "      <td>0.0</td>\n",
       "      <td>0.0</td>\n",
       "      <td>0.0</td>\n",
       "      <td>0.0</td>\n",
       "      <td>NaN</td>\n",
       "      <td>Candra Jacostaffey</td>\n",
       "      <td>True</td>\n",
       "    </tr>\n",
       "    <tr>\n",
       "      <th>8</th>\n",
       "      <td>0007_01</td>\n",
       "      <td>Earth</td>\n",
       "      <td>False</td>\n",
       "      <td>F/3/S</td>\n",
       "      <td>TRAPPIST-1e</td>\n",
       "      <td>35.0</td>\n",
       "      <td>False</td>\n",
       "      <td>0.0</td>\n",
       "      <td>785.0</td>\n",
       "      <td>17.0</td>\n",
       "      <td>216.0</td>\n",
       "      <td>0.0</td>\n",
       "      <td>Andona Beston</td>\n",
       "      <td>True</td>\n",
       "    </tr>\n",
       "    <tr>\n",
       "      <th>9</th>\n",
       "      <td>0008_01</td>\n",
       "      <td>Europa</td>\n",
       "      <td>True</td>\n",
       "      <td>B/1/P</td>\n",
       "      <td>55 Cancri e</td>\n",
       "      <td>14.0</td>\n",
       "      <td>False</td>\n",
       "      <td>0.0</td>\n",
       "      <td>0.0</td>\n",
       "      <td>0.0</td>\n",
       "      <td>0.0</td>\n",
       "      <td>0.0</td>\n",
       "      <td>Erraiam Flatic</td>\n",
       "      <td>True</td>\n",
       "    </tr>\n",
       "  </tbody>\n",
       "</table>\n",
       "</div>"
      ],
      "text/plain": [
       "  PassengerId HomePlanet CryoSleep  Cabin    Destination   Age    VIP  \\\n",
       "0     0001_01     Europa     False  B/0/P    TRAPPIST-1e  39.0  False   \n",
       "1     0002_01      Earth     False  F/0/S    TRAPPIST-1e  24.0  False   \n",
       "2     0003_01     Europa     False  A/0/S    TRAPPIST-1e  58.0   True   \n",
       "3     0003_02     Europa     False  A/0/S    TRAPPIST-1e  33.0  False   \n",
       "4     0004_01      Earth     False  F/1/S    TRAPPIST-1e  16.0  False   \n",
       "5     0005_01      Earth     False  F/0/P  PSO J318.5-22  44.0  False   \n",
       "6     0006_01      Earth     False  F/2/S    TRAPPIST-1e  26.0  False   \n",
       "7     0006_02      Earth      True  G/0/S    TRAPPIST-1e  28.0  False   \n",
       "8     0007_01      Earth     False  F/3/S    TRAPPIST-1e  35.0  False   \n",
       "9     0008_01     Europa      True  B/1/P    55 Cancri e  14.0  False   \n",
       "\n",
       "   RoomService  FoodCourt  ShoppingMall     Spa  VRDeck                Name  \\\n",
       "0          0.0        0.0           0.0     0.0     0.0     Maham Ofracculy   \n",
       "1        109.0        9.0          25.0   549.0    44.0        Juanna Vines   \n",
       "2         43.0     3576.0           0.0  6715.0    49.0       Altark Susent   \n",
       "3          0.0     1283.0         371.0  3329.0   193.0        Solam Susent   \n",
       "4        303.0       70.0         151.0   565.0     2.0   Willy Santantines   \n",
       "5          0.0      483.0           0.0   291.0     0.0   Sandie Hinetthews   \n",
       "6         42.0     1539.0           3.0     0.0     0.0  Billex Jacostaffey   \n",
       "7          0.0        0.0           0.0     0.0     NaN  Candra Jacostaffey   \n",
       "8          0.0      785.0          17.0   216.0     0.0       Andona Beston   \n",
       "9          0.0        0.0           0.0     0.0     0.0      Erraiam Flatic   \n",
       "\n",
       "   Transported  \n",
       "0        False  \n",
       "1         True  \n",
       "2        False  \n",
       "3        False  \n",
       "4         True  \n",
       "5         True  \n",
       "6         True  \n",
       "7         True  \n",
       "8         True  \n",
       "9         True  "
      ]
     },
     "execution_count": 5,
     "metadata": {},
     "output_type": "execute_result"
    }
   ],
   "source": [
    "train_data.head(10)"
   ]
  },
  {
   "cell_type": "markdown",
   "id": "eaee7da5",
   "metadata": {
    "papermill": {
     "duration": 0.018322,
     "end_time": "2023-07-26T11:49:45.274028",
     "exception": false,
     "start_time": "2023-07-26T11:49:45.255706",
     "status": "completed"
    },
    "tags": []
   },
   "source": [
    "Another function that you can use is **info**. This one displays the most important information from a DataFrame such as index data type and columns, non-null values and memory usage. "
   ]
  },
  {
   "cell_type": "code",
   "execution_count": 6,
   "id": "25a42a9d",
   "metadata": {
    "execution": {
     "iopub.execute_input": "2023-07-26T11:49:45.313762Z",
     "iopub.status.busy": "2023-07-26T11:49:45.313214Z",
     "iopub.status.idle": "2023-07-26T11:49:45.367357Z",
     "shell.execute_reply": "2023-07-26T11:49:45.366130Z"
    },
    "papermill": {
     "duration": 0.077796,
     "end_time": "2023-07-26T11:49:45.370497",
     "exception": false,
     "start_time": "2023-07-26T11:49:45.292701",
     "status": "completed"
    },
    "tags": []
   },
   "outputs": [
    {
     "name": "stdout",
     "output_type": "stream",
     "text": [
      "<class 'pandas.core.frame.DataFrame'>\n",
      "RangeIndex: 8693 entries, 0 to 8692\n",
      "Data columns (total 14 columns):\n",
      " #   Column        Non-Null Count  Dtype  \n",
      "---  ------        --------------  -----  \n",
      " 0   PassengerId   8693 non-null   object \n",
      " 1   HomePlanet    8492 non-null   object \n",
      " 2   CryoSleep     8476 non-null   object \n",
      " 3   Cabin         8494 non-null   object \n",
      " 4   Destination   8511 non-null   object \n",
      " 5   Age           8514 non-null   float64\n",
      " 6   VIP           8490 non-null   object \n",
      " 7   RoomService   8512 non-null   float64\n",
      " 8   FoodCourt     8510 non-null   float64\n",
      " 9   ShoppingMall  8485 non-null   float64\n",
      " 10  Spa           8510 non-null   float64\n",
      " 11  VRDeck        8505 non-null   float64\n",
      " 12  Name          8493 non-null   object \n",
      " 13  Transported   8693 non-null   bool   \n",
      "dtypes: bool(1), float64(6), object(7)\n",
      "memory usage: 891.5+ KB\n"
     ]
    }
   ],
   "source": [
    "train_data.info()"
   ]
  },
  {
   "cell_type": "markdown",
   "id": "9fc30fc7",
   "metadata": {
    "papermill": {
     "duration": 0.018994,
     "end_time": "2023-07-26T11:49:45.409476",
     "exception": false,
     "start_time": "2023-07-26T11:49:45.390482",
     "status": "completed"
    },
    "tags": []
   },
   "source": [
    "Now, we want to see how many categories each categorical feature contains as well as how many items are in each category. To do that we use the **value_counts** function."
   ]
  },
  {
   "cell_type": "code",
   "execution_count": 7,
   "id": "62e0f037",
   "metadata": {
    "execution": {
     "iopub.execute_input": "2023-07-26T11:49:45.452096Z",
     "iopub.status.busy": "2023-07-26T11:49:45.451258Z",
     "iopub.status.idle": "2023-07-26T11:49:45.462474Z",
     "shell.execute_reply": "2023-07-26T11:49:45.461270Z"
    },
    "papermill": {
     "duration": 0.035773,
     "end_time": "2023-07-26T11:49:45.465096",
     "exception": false,
     "start_time": "2023-07-26T11:49:45.429323",
     "status": "completed"
    },
    "tags": []
   },
   "outputs": [
    {
     "data": {
      "text/plain": [
       "Destination\n",
       "TRAPPIST-1e      5915\n",
       "55 Cancri e      1800\n",
       "PSO J318.5-22     796\n",
       "Name: count, dtype: int64"
      ]
     },
     "execution_count": 7,
     "metadata": {},
     "output_type": "execute_result"
    }
   ],
   "source": [
    "train_data['Destination'].value_counts()"
   ]
  },
  {
   "cell_type": "code",
   "execution_count": 8,
   "id": "6a3c282b",
   "metadata": {
    "execution": {
     "iopub.execute_input": "2023-07-26T11:49:45.506811Z",
     "iopub.status.busy": "2023-07-26T11:49:45.506318Z",
     "iopub.status.idle": "2023-07-26T11:49:45.518730Z",
     "shell.execute_reply": "2023-07-26T11:49:45.517318Z"
    },
    "papermill": {
     "duration": 0.037276,
     "end_time": "2023-07-26T11:49:45.521866",
     "exception": false,
     "start_time": "2023-07-26T11:49:45.484590",
     "status": "completed"
    },
    "tags": []
   },
   "outputs": [
    {
     "data": {
      "text/plain": [
       "HomePlanet\n",
       "Earth     4602\n",
       "Europa    2131\n",
       "Mars      1759\n",
       "Name: count, dtype: int64"
      ]
     },
     "execution_count": 8,
     "metadata": {},
     "output_type": "execute_result"
    }
   ],
   "source": [
    "train_data['HomePlanet'].value_counts()"
   ]
  },
  {
   "cell_type": "code",
   "execution_count": 9,
   "id": "a7d947e7",
   "metadata": {
    "execution": {
     "iopub.execute_input": "2023-07-26T11:49:45.564815Z",
     "iopub.status.busy": "2023-07-26T11:49:45.563526Z",
     "iopub.status.idle": "2023-07-26T11:49:45.574652Z",
     "shell.execute_reply": "2023-07-26T11:49:45.573441Z"
    },
    "papermill": {
     "duration": 0.035469,
     "end_time": "2023-07-26T11:49:45.577362",
     "exception": false,
     "start_time": "2023-07-26T11:49:45.541893",
     "status": "completed"
    },
    "tags": []
   },
   "outputs": [
    {
     "data": {
      "text/plain": [
       "CryoSleep\n",
       "False    5439\n",
       "True     3037\n",
       "Name: count, dtype: int64"
      ]
     },
     "execution_count": 9,
     "metadata": {},
     "output_type": "execute_result"
    }
   ],
   "source": [
    "train_data['CryoSleep'].value_counts()"
   ]
  },
  {
   "cell_type": "code",
   "execution_count": 10,
   "id": "612b600b",
   "metadata": {
    "execution": {
     "iopub.execute_input": "2023-07-26T11:49:45.618965Z",
     "iopub.status.busy": "2023-07-26T11:49:45.618435Z",
     "iopub.status.idle": "2023-07-26T11:49:45.636616Z",
     "shell.execute_reply": "2023-07-26T11:49:45.635070Z"
    },
    "papermill": {
     "duration": 0.042259,
     "end_time": "2023-07-26T11:49:45.639360",
     "exception": false,
     "start_time": "2023-07-26T11:49:45.597101",
     "status": "completed"
    },
    "tags": []
   },
   "outputs": [
    {
     "data": {
      "text/plain": [
       "Cabin\n",
       "G/734/S     8\n",
       "B/11/S      7\n",
       "F/1411/P    7\n",
       "B/82/S      7\n",
       "G/981/S     7\n",
       "           ..\n",
       "G/543/S     1\n",
       "B/106/P     1\n",
       "G/542/S     1\n",
       "F/700/P     1\n",
       "G/559/P     1\n",
       "Name: count, Length: 6560, dtype: int64"
      ]
     },
     "execution_count": 10,
     "metadata": {},
     "output_type": "execute_result"
    }
   ],
   "source": [
    "train_data['Cabin'].value_counts()"
   ]
  },
  {
   "cell_type": "code",
   "execution_count": 11,
   "id": "289ca970",
   "metadata": {
    "execution": {
     "iopub.execute_input": "2023-07-26T11:49:45.681060Z",
     "iopub.status.busy": "2023-07-26T11:49:45.680508Z",
     "iopub.status.idle": "2023-07-26T11:49:45.692204Z",
     "shell.execute_reply": "2023-07-26T11:49:45.690743Z"
    },
    "papermill": {
     "duration": 0.036226,
     "end_time": "2023-07-26T11:49:45.695285",
     "exception": false,
     "start_time": "2023-07-26T11:49:45.659059",
     "status": "completed"
    },
    "tags": []
   },
   "outputs": [
    {
     "data": {
      "text/plain": [
       "VIP\n",
       "False    8291\n",
       "True      199\n",
       "Name: count, dtype: int64"
      ]
     },
     "execution_count": 11,
     "metadata": {},
     "output_type": "execute_result"
    }
   ],
   "source": [
    "train_data['VIP'].value_counts()"
   ]
  },
  {
   "cell_type": "code",
   "execution_count": 12,
   "id": "20c0b0a4",
   "metadata": {
    "execution": {
     "iopub.execute_input": "2023-07-26T11:49:45.736825Z",
     "iopub.status.busy": "2023-07-26T11:49:45.736403Z",
     "iopub.status.idle": "2023-07-26T11:49:45.752827Z",
     "shell.execute_reply": "2023-07-26T11:49:45.751378Z"
    },
    "papermill": {
     "duration": 0.040388,
     "end_time": "2023-07-26T11:49:45.755469",
     "exception": false,
     "start_time": "2023-07-26T11:49:45.715081",
     "status": "completed"
    },
    "tags": []
   },
   "outputs": [
    {
     "data": {
      "text/plain": [
       "Name\n",
       "Ankalik Nateansive    2\n",
       "Gwendy Sykess         2\n",
       "Cuses Pread           2\n",
       "Keitha Josey          2\n",
       "Glenna Valezaley      2\n",
       "                     ..\n",
       "Backse Cla            1\n",
       "Fres Cla              1\n",
       "Dous Blane            1\n",
       "Spies Gency           1\n",
       "Aliey Chanash         1\n",
       "Name: count, Length: 8473, dtype: int64"
      ]
     },
     "execution_count": 12,
     "metadata": {},
     "output_type": "execute_result"
    }
   ],
   "source": [
    "train_data['Name'].value_counts()"
   ]
  },
  {
   "cell_type": "code",
   "execution_count": 13,
   "id": "d866770e",
   "metadata": {
    "execution": {
     "iopub.execute_input": "2023-07-26T11:49:45.799121Z",
     "iopub.status.busy": "2023-07-26T11:49:45.798714Z",
     "iopub.status.idle": "2023-07-26T11:49:45.810906Z",
     "shell.execute_reply": "2023-07-26T11:49:45.809665Z"
    },
    "papermill": {
     "duration": 0.037177,
     "end_time": "2023-07-26T11:49:45.813540",
     "exception": false,
     "start_time": "2023-07-26T11:49:45.776363",
     "status": "completed"
    },
    "tags": []
   },
   "outputs": [
    {
     "data": {
      "text/plain": [
       "Transported\n",
       "True     4378\n",
       "False    4315\n",
       "Name: count, dtype: int64"
      ]
     },
     "execution_count": 13,
     "metadata": {},
     "output_type": "execute_result"
    }
   ],
   "source": [
    "train_data[\"Transported\"].value_counts()"
   ]
  },
  {
   "cell_type": "markdown",
   "id": "f017b4ef",
   "metadata": {
    "papermill": {
     "duration": 0.020269,
     "end_time": "2023-07-26T11:49:45.854305",
     "exception": false,
     "start_time": "2023-07-26T11:49:45.834036",
     "status": "completed"
    },
    "tags": []
   },
   "source": [
    "After we understood our data better, we want to see how many missing values there are for each attribute. We do that by calling the **isnull** function which returns a mask of boolean values indicating if a certain value in the DataFrame is missing or not. Then we call the **sum** function which sums the values got from isnull for each attribute. Finally, **sort_values** is used to display the resulting values in a given order. By setting the parameter ascending to False, we tell the program to display the values in descending order.\n",
    "\n",
    "Usually, an attribute can be dropped if there are more than 5% missing values, but that depends on the problem."
   ]
  },
  {
   "cell_type": "code",
   "execution_count": 14,
   "id": "b945df93",
   "metadata": {
    "execution": {
     "iopub.execute_input": "2023-07-26T11:49:45.897739Z",
     "iopub.status.busy": "2023-07-26T11:49:45.897238Z",
     "iopub.status.idle": "2023-07-26T11:49:45.930960Z",
     "shell.execute_reply": "2023-07-26T11:49:45.929431Z"
    },
    "papermill": {
     "duration": 0.058541,
     "end_time": "2023-07-26T11:49:45.933639",
     "exception": false,
     "start_time": "2023-07-26T11:49:45.875098",
     "status": "completed"
    },
    "tags": []
   },
   "outputs": [
    {
     "data": {
      "text/plain": [
       "CryoSleep       217\n",
       "ShoppingMall    208\n",
       "VIP             203\n",
       "HomePlanet      201\n",
       "Name            200\n",
       "Cabin           199\n",
       "VRDeck          188\n",
       "Spa             183\n",
       "FoodCourt       183\n",
       "Destination     182\n",
       "RoomService     181\n",
       "Age             179\n",
       "PassengerId       0\n",
       "Transported       0\n",
       "dtype: int64"
      ]
     },
     "execution_count": 14,
     "metadata": {},
     "output_type": "execute_result"
    }
   ],
   "source": [
    "train_data.isnull().sum().sort_values(ascending=False)"
   ]
  },
  {
   "cell_type": "markdown",
   "id": "a6d17a04",
   "metadata": {
    "papermill": {
     "duration": 0.020181,
     "end_time": "2023-07-26T11:49:45.973998",
     "exception": false,
     "start_time": "2023-07-26T11:49:45.953817",
     "status": "completed"
    },
    "tags": []
   },
   "source": [
    "We can see there is no attribute for which the missing values are more than 5% of the total slots. Thus, we decide to not drop any attribute for now.\n",
    "\n"
   ]
  },
  {
   "cell_type": "markdown",
   "id": "3c8997bc",
   "metadata": {
    "papermill": {
     "duration": 0.019952,
     "end_time": "2023-07-26T11:49:46.014332",
     "exception": false,
     "start_time": "2023-07-26T11:49:45.994380",
     "status": "completed"
    },
    "tags": []
   },
   "source": [
    "# Feature Engineering"
   ]
  },
  {
   "cell_type": "markdown",
   "id": "9e5752b7",
   "metadata": {
    "papermill": {
     "duration": 0.020119,
     "end_time": "2023-07-26T11:49:46.054726",
     "exception": false,
     "start_time": "2023-07-26T11:49:46.034607",
     "status": "completed"
    },
    "tags": []
   },
   "source": [
    "An interesting thing to observe is that the 'Cabin' feature is made of 3 distinct components divided by a slash:\n",
    "- the deck where the cabin was\n",
    "- the number of the cabin \n",
    "- the side where the cabin was\n",
    "\n",
    "That's why I chose to divide this feature into 3 separate features."
   ]
  },
  {
   "cell_type": "code",
   "execution_count": 15,
   "id": "86070519",
   "metadata": {
    "execution": {
     "iopub.execute_input": "2023-07-26T11:49:46.098032Z",
     "iopub.status.busy": "2023-07-26T11:49:46.097519Z",
     "iopub.status.idle": "2023-07-26T11:49:46.138765Z",
     "shell.execute_reply": "2023-07-26T11:49:46.137316Z"
    },
    "papermill": {
     "duration": 0.066441,
     "end_time": "2023-07-26T11:49:46.141520",
     "exception": false,
     "start_time": "2023-07-26T11:49:46.075079",
     "status": "completed"
    },
    "tags": []
   },
   "outputs": [],
   "source": [
    "train_data[['Deck', 'Cabin_number', 'Side']] = train_data['Cabin'].str.split('/', expand=True)\n",
    "test_data[['Deck', 'Cabin_number', 'Side']] = test_data['Cabin'].str.split('/', expand=True)\n",
    "\n"
   ]
  },
  {
   "cell_type": "markdown",
   "id": "6dbc9e9f",
   "metadata": {
    "papermill": {
     "duration": 0.020538,
     "end_time": "2023-07-26T11:49:46.182674",
     "exception": false,
     "start_time": "2023-07-26T11:49:46.162136",
     "status": "completed"
    },
    "tags": []
   },
   "source": [
    "We want to see how many unique values the newly created features have, proceeding the same as before."
   ]
  },
  {
   "cell_type": "code",
   "execution_count": 16,
   "id": "d1b084e5",
   "metadata": {
    "execution": {
     "iopub.execute_input": "2023-07-26T11:49:46.226793Z",
     "iopub.status.busy": "2023-07-26T11:49:46.225359Z",
     "iopub.status.idle": "2023-07-26T11:49:46.240387Z",
     "shell.execute_reply": "2023-07-26T11:49:46.238987Z"
    },
    "papermill": {
     "duration": 0.039797,
     "end_time": "2023-07-26T11:49:46.243175",
     "exception": false,
     "start_time": "2023-07-26T11:49:46.203378",
     "status": "completed"
    },
    "tags": []
   },
   "outputs": [
    {
     "data": {
      "text/plain": [
       "Cabin_number\n",
       "82      28\n",
       "86      22\n",
       "19      22\n",
       "176     21\n",
       "97      21\n",
       "        ..\n",
       "1864     1\n",
       "1865     1\n",
       "1761     1\n",
       "1866     1\n",
       "1867     1\n",
       "Name: count, Length: 1817, dtype: int64"
      ]
     },
     "execution_count": 16,
     "metadata": {},
     "output_type": "execute_result"
    }
   ],
   "source": [
    "train_data['Cabin_number'].value_counts()"
   ]
  },
  {
   "cell_type": "code",
   "execution_count": 17,
   "id": "4a7bf335",
   "metadata": {
    "execution": {
     "iopub.execute_input": "2023-07-26T11:49:46.286271Z",
     "iopub.status.busy": "2023-07-26T11:49:46.285795Z",
     "iopub.status.idle": "2023-07-26T11:49:46.297058Z",
     "shell.execute_reply": "2023-07-26T11:49:46.295623Z"
    },
    "papermill": {
     "duration": 0.036215,
     "end_time": "2023-07-26T11:49:46.299746",
     "exception": false,
     "start_time": "2023-07-26T11:49:46.263531",
     "status": "completed"
    },
    "tags": []
   },
   "outputs": [
    {
     "data": {
      "text/plain": [
       "Deck\n",
       "F    2794\n",
       "G    2559\n",
       "E     876\n",
       "B     779\n",
       "C     747\n",
       "D     478\n",
       "A     256\n",
       "T       5\n",
       "Name: count, dtype: int64"
      ]
     },
     "execution_count": 17,
     "metadata": {},
     "output_type": "execute_result"
    }
   ],
   "source": [
    "train_data['Deck'].value_counts()"
   ]
  },
  {
   "cell_type": "code",
   "execution_count": 18,
   "id": "d19930b1",
   "metadata": {
    "execution": {
     "iopub.execute_input": "2023-07-26T11:49:46.344191Z",
     "iopub.status.busy": "2023-07-26T11:49:46.343757Z",
     "iopub.status.idle": "2023-07-26T11:49:46.353890Z",
     "shell.execute_reply": "2023-07-26T11:49:46.353042Z"
    },
    "papermill": {
     "duration": 0.035859,
     "end_time": "2023-07-26T11:49:46.356463",
     "exception": false,
     "start_time": "2023-07-26T11:49:46.320604",
     "status": "completed"
    },
    "tags": []
   },
   "outputs": [
    {
     "data": {
      "text/plain": [
       "Side\n",
       "S    4288\n",
       "P    4206\n",
       "Name: count, dtype: int64"
      ]
     },
     "execution_count": 18,
     "metadata": {},
     "output_type": "execute_result"
    }
   ],
   "source": [
    "train_data['Side'].value_counts()"
   ]
  },
  {
   "cell_type": "markdown",
   "id": "bbae51a4",
   "metadata": {
    "papermill": {
     "duration": 0.021715,
     "end_time": "2023-07-26T11:49:46.401240",
     "exception": false,
     "start_time": "2023-07-26T11:49:46.379525",
     "status": "completed"
    },
    "tags": []
   },
   "source": [
    "I decided to delete the 'Cabin_number' for simplicity. This way the cabin of each passenger is described as being located in a larger area."
   ]
  },
  {
   "cell_type": "code",
   "execution_count": 19,
   "id": "af48df7d",
   "metadata": {
    "execution": {
     "iopub.execute_input": "2023-07-26T11:49:46.449306Z",
     "iopub.status.busy": "2023-07-26T11:49:46.448923Z",
     "iopub.status.idle": "2023-07-26T11:49:46.460955Z",
     "shell.execute_reply": "2023-07-26T11:49:46.459365Z"
    },
    "papermill": {
     "duration": 0.039307,
     "end_time": "2023-07-26T11:49:46.463825",
     "exception": false,
     "start_time": "2023-07-26T11:49:46.424518",
     "status": "completed"
    },
    "tags": []
   },
   "outputs": [],
   "source": [
    "train_data = train_data.drop(['Cabin_number'], axis = 1)\n",
    "test_data = test_data.drop(['Cabin_number'], axis = 1)"
   ]
  },
  {
   "cell_type": "markdown",
   "id": "728d9118",
   "metadata": {
    "papermill": {
     "duration": 0.025564,
     "end_time": "2023-07-26T11:49:46.512450",
     "exception": false,
     "start_time": "2023-07-26T11:49:46.486886",
     "status": "completed"
    },
    "tags": []
   },
   "source": [
    "Because we divided the 'Cabin' feature into 3 different features, we are going to exclude it from our data. Also, we are going to delete the 'PassengerId' and 'Name' for simplicity (an idea for future analysis would be to group passengers by their family name). For this I used the **drop** function. For more information about all the parameters of this function please check out the official documentation."
   ]
  },
  {
   "cell_type": "code",
   "execution_count": 20,
   "id": "0f81f24f",
   "metadata": {
    "execution": {
     "iopub.execute_input": "2023-07-26T11:49:46.559069Z",
     "iopub.status.busy": "2023-07-26T11:49:46.558656Z",
     "iopub.status.idle": "2023-07-26T11:49:46.568344Z",
     "shell.execute_reply": "2023-07-26T11:49:46.567395Z"
    },
    "papermill": {
     "duration": 0.035473,
     "end_time": "2023-07-26T11:49:46.570518",
     "exception": false,
     "start_time": "2023-07-26T11:49:46.535045",
     "status": "completed"
    },
    "tags": []
   },
   "outputs": [],
   "source": [
    "train_data.drop(['Cabin', 'Name', 'PassengerId'], axis = 1, inplace = True)\n",
    "test_data.drop(['Cabin', 'Name', 'PassengerId'], axis = 1, inplace = True)"
   ]
  },
  {
   "cell_type": "markdown",
   "id": "ad22bb57",
   "metadata": {
    "papermill": {
     "duration": 0.022906,
     "end_time": "2023-07-26T11:49:46.614934",
     "exception": false,
     "start_time": "2023-07-26T11:49:46.592028",
     "status": "completed"
    },
    "tags": []
   },
   "source": [
    "We are going to stick with the features that we have now. \n",
    "\n",
    "The next step is to fill in all the missing values of each attribute."
   ]
  },
  {
   "cell_type": "markdown",
   "id": "38ac139a",
   "metadata": {
    "papermill": {
     "duration": 0.020903,
     "end_time": "2023-07-26T11:49:46.657301",
     "exception": false,
     "start_time": "2023-07-26T11:49:46.636398",
     "status": "completed"
    },
    "tags": []
   },
   "source": [
    "# Sidebar"
   ]
  },
  {
   "cell_type": "markdown",
   "id": "70706b56",
   "metadata": {
    "papermill": {
     "duration": 0.022136,
     "end_time": "2023-07-26T11:49:46.701678",
     "exception": false,
     "start_time": "2023-07-26T11:49:46.679542",
     "status": "completed"
    },
    "tags": []
   },
   "source": [
    "There are two types of attributes present in our dataset:\n",
    "- **numerical attributes** which refer to numerical datatypes (for example 'Spa' is a numerical attribute, because all of its elements are numbers \n",
    "- **categorical attributes** which refer to string datatypes (for example 'HomePlanet' is a categorical attribute, because all of its elements are strings \n",
    "\n",
    "The problem is that machines cannot interpret categorical data directly. That is why categorical data must be transformed into numerical data for further processing. "
   ]
  },
  {
   "cell_type": "markdown",
   "id": "08341ca9",
   "metadata": {
    "papermill": {
     "duration": 0.02307,
     "end_time": "2023-07-26T11:49:46.746536",
     "exception": false,
     "start_time": "2023-07-26T11:49:46.723466",
     "status": "completed"
    },
    "tags": []
   },
   "source": [
    "# End of Sidebar"
   ]
  },
  {
   "cell_type": "markdown",
   "id": "fe47979a",
   "metadata": {
    "papermill": {
     "duration": 0.023849,
     "end_time": "2023-07-26T11:49:46.793462",
     "exception": false,
     "start_time": "2023-07-26T11:49:46.769613",
     "status": "completed"
    },
    "tags": []
   },
   "source": [
    "We observe that two attributes take just True or False as values. This is why I chose to replace the boolean values with numerical ones (1 and 0).\n",
    "\n",
    "I used the **astype** function to make the conversion. This function casts an object to a specified data type. In our case, we set the parameter dtype = int to make the conversion from bool to int.\n",
    "\n",
    "Before applying astype we had to fill in the missing values and we did so by using the **fillna** function. We replaced the missing values with 0 because there were more False values for both attributes."
   ]
  },
  {
   "cell_type": "code",
   "execution_count": 21,
   "id": "36ee1173",
   "metadata": {
    "execution": {
     "iopub.execute_input": "2023-07-26T11:49:46.839880Z",
     "iopub.status.busy": "2023-07-26T11:49:46.839447Z",
     "iopub.status.idle": "2023-07-26T11:49:46.871200Z",
     "shell.execute_reply": "2023-07-26T11:49:46.869789Z"
    },
    "papermill": {
     "duration": 0.057928,
     "end_time": "2023-07-26T11:49:46.874281",
     "exception": false,
     "start_time": "2023-07-26T11:49:46.816353",
     "status": "completed"
    },
    "tags": []
   },
   "outputs": [],
   "source": [
    "# First, fill the missing values with the value 0\n",
    "train_data[['VIP', 'CryoSleep']] = train_data[['VIP', 'CryoSleep']].fillna(value=0)\n",
    "test_data[['VIP', 'CryoSleep']] = test_data[['VIP', 'CryoSleep']].fillna(value=0)\n",
    "\n",
    "# Then change the boolean values with numerical values\n",
    "train_data['CryoSleep'] = train_data['CryoSleep'].astype(int)\n",
    "train_data['VIP'] = train_data['VIP'].astype(int)\n",
    "\n",
    "test_data['CryoSleep'] = test_data['CryoSleep'].astype(int)\n",
    "test_data['VIP'] = test_data['VIP'].astype(int)"
   ]
  },
  {
   "cell_type": "markdown",
   "id": "d30ba88a",
   "metadata": {
    "papermill": {
     "duration": 0.023205,
     "end_time": "2023-07-26T11:49:46.920043",
     "exception": false,
     "start_time": "2023-07-26T11:49:46.896838",
     "status": "completed"
    },
    "tags": []
   },
   "source": [
    "I am going to use two different techniques for filling in the missing values of the numerical and categorical attributes. For the numerical attributes I am going to use the median and for the categorical ones I am going to use the mode. This can be easily done by using the **median** and the **mode** function. However, the mode function returns a Series so I had to use the iloc function to get the actual value of the mode."
   ]
  },
  {
   "cell_type": "code",
   "execution_count": 22,
   "id": "e9b58e03",
   "metadata": {
    "execution": {
     "iopub.execute_input": "2023-07-26T11:49:46.967064Z",
     "iopub.status.busy": "2023-07-26T11:49:46.966613Z",
     "iopub.status.idle": "2023-07-26T11:49:47.006673Z",
     "shell.execute_reply": "2023-07-26T11:49:47.005240Z"
    },
    "papermill": {
     "duration": 0.067295,
     "end_time": "2023-07-26T11:49:47.009512",
     "exception": false,
     "start_time": "2023-07-26T11:49:46.942217",
     "status": "completed"
    },
    "tags": []
   },
   "outputs": [
    {
     "name": "stderr",
     "output_type": "stream",
     "text": [
      "/tmp/ipykernel_9959/1368184308.py:6: FutureWarning: A value is trying to be set on a copy of a DataFrame or Series through chained assignment using an inplace method.\n",
      "The behavior will change in pandas 3.0. This inplace method will never work because the intermediate object on which we are setting values always behaves as a copy.\n",
      "\n",
      "For example, when doing 'df[col].method(value, inplace=True)', try using 'df.method({col: value}, inplace=True)' or df[col] = df[col].method(value) instead, to perform the operation inplace on the original object.\n",
      "\n",
      "\n",
      "  train_data[feature].fillna(train_data[feature].median(), inplace = True)\n",
      "/tmp/ipykernel_9959/1368184308.py:7: FutureWarning: A value is trying to be set on a copy of a DataFrame or Series through chained assignment using an inplace method.\n",
      "The behavior will change in pandas 3.0. This inplace method will never work because the intermediate object on which we are setting values always behaves as a copy.\n",
      "\n",
      "For example, when doing 'df[col].method(value, inplace=True)', try using 'df.method({col: value}, inplace=True)' or df[col] = df[col].method(value) instead, to perform the operation inplace on the original object.\n",
      "\n",
      "\n",
      "  test_data[feature].fillna(test_data[feature].median(), inplace = True)\n",
      "/tmp/ipykernel_9959/1368184308.py:6: FutureWarning: A value is trying to be set on a copy of a DataFrame or Series through chained assignment using an inplace method.\n",
      "The behavior will change in pandas 3.0. This inplace method will never work because the intermediate object on which we are setting values always behaves as a copy.\n",
      "\n",
      "For example, when doing 'df[col].method(value, inplace=True)', try using 'df.method({col: value}, inplace=True)' or df[col] = df[col].method(value) instead, to perform the operation inplace on the original object.\n",
      "\n",
      "\n",
      "  train_data[feature].fillna(train_data[feature].median(), inplace = True)\n",
      "/tmp/ipykernel_9959/1368184308.py:7: FutureWarning: A value is trying to be set on a copy of a DataFrame or Series through chained assignment using an inplace method.\n",
      "The behavior will change in pandas 3.0. This inplace method will never work because the intermediate object on which we are setting values always behaves as a copy.\n",
      "\n",
      "For example, when doing 'df[col].method(value, inplace=True)', try using 'df.method({col: value}, inplace=True)' or df[col] = df[col].method(value) instead, to perform the operation inplace on the original object.\n",
      "\n",
      "\n",
      "  test_data[feature].fillna(test_data[feature].median(), inplace = True)\n",
      "/tmp/ipykernel_9959/1368184308.py:6: FutureWarning: A value is trying to be set on a copy of a DataFrame or Series through chained assignment using an inplace method.\n",
      "The behavior will change in pandas 3.0. This inplace method will never work because the intermediate object on which we are setting values always behaves as a copy.\n",
      "\n",
      "For example, when doing 'df[col].method(value, inplace=True)', try using 'df.method({col: value}, inplace=True)' or df[col] = df[col].method(value) instead, to perform the operation inplace on the original object.\n",
      "\n",
      "\n",
      "  train_data[feature].fillna(train_data[feature].median(), inplace = True)\n",
      "/tmp/ipykernel_9959/1368184308.py:7: FutureWarning: A value is trying to be set on a copy of a DataFrame or Series through chained assignment using an inplace method.\n",
      "The behavior will change in pandas 3.0. This inplace method will never work because the intermediate object on which we are setting values always behaves as a copy.\n",
      "\n",
      "For example, when doing 'df[col].method(value, inplace=True)', try using 'df.method({col: value}, inplace=True)' or df[col] = df[col].method(value) instead, to perform the operation inplace on the original object.\n",
      "\n",
      "\n",
      "  test_data[feature].fillna(test_data[feature].median(), inplace = True)\n",
      "/tmp/ipykernel_9959/1368184308.py:6: FutureWarning: A value is trying to be set on a copy of a DataFrame or Series through chained assignment using an inplace method.\n",
      "The behavior will change in pandas 3.0. This inplace method will never work because the intermediate object on which we are setting values always behaves as a copy.\n",
      "\n",
      "For example, when doing 'df[col].method(value, inplace=True)', try using 'df.method({col: value}, inplace=True)' or df[col] = df[col].method(value) instead, to perform the operation inplace on the original object.\n",
      "\n",
      "\n",
      "  train_data[feature].fillna(train_data[feature].median(), inplace = True)\n",
      "/tmp/ipykernel_9959/1368184308.py:7: FutureWarning: A value is trying to be set on a copy of a DataFrame or Series through chained assignment using an inplace method.\n",
      "The behavior will change in pandas 3.0. This inplace method will never work because the intermediate object on which we are setting values always behaves as a copy.\n",
      "\n",
      "For example, when doing 'df[col].method(value, inplace=True)', try using 'df.method({col: value}, inplace=True)' or df[col] = df[col].method(value) instead, to perform the operation inplace on the original object.\n",
      "\n",
      "\n",
      "  test_data[feature].fillna(test_data[feature].median(), inplace = True)\n",
      "/tmp/ipykernel_9959/1368184308.py:6: FutureWarning: A value is trying to be set on a copy of a DataFrame or Series through chained assignment using an inplace method.\n",
      "The behavior will change in pandas 3.0. This inplace method will never work because the intermediate object on which we are setting values always behaves as a copy.\n",
      "\n",
      "For example, when doing 'df[col].method(value, inplace=True)', try using 'df.method({col: value}, inplace=True)' or df[col] = df[col].method(value) instead, to perform the operation inplace on the original object.\n",
      "\n",
      "\n",
      "  train_data[feature].fillna(train_data[feature].median(), inplace = True)\n",
      "/tmp/ipykernel_9959/1368184308.py:7: FutureWarning: A value is trying to be set on a copy of a DataFrame or Series through chained assignment using an inplace method.\n",
      "The behavior will change in pandas 3.0. This inplace method will never work because the intermediate object on which we are setting values always behaves as a copy.\n",
      "\n",
      "For example, when doing 'df[col].method(value, inplace=True)', try using 'df.method({col: value}, inplace=True)' or df[col] = df[col].method(value) instead, to perform the operation inplace on the original object.\n",
      "\n",
      "\n",
      "  test_data[feature].fillna(test_data[feature].median(), inplace = True)\n",
      "/tmp/ipykernel_9959/1368184308.py:6: FutureWarning: A value is trying to be set on a copy of a DataFrame or Series through chained assignment using an inplace method.\n",
      "The behavior will change in pandas 3.0. This inplace method will never work because the intermediate object on which we are setting values always behaves as a copy.\n",
      "\n",
      "For example, when doing 'df[col].method(value, inplace=True)', try using 'df.method({col: value}, inplace=True)' or df[col] = df[col].method(value) instead, to perform the operation inplace on the original object.\n",
      "\n",
      "\n",
      "  train_data[feature].fillna(train_data[feature].median(), inplace = True)\n",
      "/tmp/ipykernel_9959/1368184308.py:7: FutureWarning: A value is trying to be set on a copy of a DataFrame or Series through chained assignment using an inplace method.\n",
      "The behavior will change in pandas 3.0. This inplace method will never work because the intermediate object on which we are setting values always behaves as a copy.\n",
      "\n",
      "For example, when doing 'df[col].method(value, inplace=True)', try using 'df.method({col: value}, inplace=True)' or df[col] = df[col].method(value) instead, to perform the operation inplace on the original object.\n",
      "\n",
      "\n",
      "  test_data[feature].fillna(test_data[feature].median(), inplace = True)\n",
      "/tmp/ipykernel_9959/1368184308.py:6: FutureWarning: A value is trying to be set on a copy of a DataFrame or Series through chained assignment using an inplace method.\n",
      "The behavior will change in pandas 3.0. This inplace method will never work because the intermediate object on which we are setting values always behaves as a copy.\n",
      "\n",
      "For example, when doing 'df[col].method(value, inplace=True)', try using 'df.method({col: value}, inplace=True)' or df[col] = df[col].method(value) instead, to perform the operation inplace on the original object.\n",
      "\n",
      "\n",
      "  train_data[feature].fillna(train_data[feature].median(), inplace = True)\n",
      "/tmp/ipykernel_9959/1368184308.py:7: FutureWarning: A value is trying to be set on a copy of a DataFrame or Series through chained assignment using an inplace method.\n",
      "The behavior will change in pandas 3.0. This inplace method will never work because the intermediate object on which we are setting values always behaves as a copy.\n",
      "\n",
      "For example, when doing 'df[col].method(value, inplace=True)', try using 'df.method({col: value}, inplace=True)' or df[col] = df[col].method(value) instead, to perform the operation inplace on the original object.\n",
      "\n",
      "\n",
      "  test_data[feature].fillna(test_data[feature].median(), inplace = True)\n",
      "/tmp/ipykernel_9959/1368184308.py:6: FutureWarning: A value is trying to be set on a copy of a DataFrame or Series through chained assignment using an inplace method.\n",
      "The behavior will change in pandas 3.0. This inplace method will never work because the intermediate object on which we are setting values always behaves as a copy.\n",
      "\n",
      "For example, when doing 'df[col].method(value, inplace=True)', try using 'df.method({col: value}, inplace=True)' or df[col] = df[col].method(value) instead, to perform the operation inplace on the original object.\n",
      "\n",
      "\n",
      "  train_data[feature].fillna(train_data[feature].median(), inplace = True)\n",
      "/tmp/ipykernel_9959/1368184308.py:7: FutureWarning: A value is trying to be set on a copy of a DataFrame or Series through chained assignment using an inplace method.\n",
      "The behavior will change in pandas 3.0. This inplace method will never work because the intermediate object on which we are setting values always behaves as a copy.\n",
      "\n",
      "For example, when doing 'df[col].method(value, inplace=True)', try using 'df.method({col: value}, inplace=True)' or df[col] = df[col].method(value) instead, to perform the operation inplace on the original object.\n",
      "\n",
      "\n",
      "  test_data[feature].fillna(test_data[feature].median(), inplace = True)\n",
      "/tmp/ipykernel_9959/1368184308.py:10: FutureWarning: A value is trying to be set on a copy of a DataFrame or Series through chained assignment using an inplace method.\n",
      "The behavior will change in pandas 3.0. This inplace method will never work because the intermediate object on which we are setting values always behaves as a copy.\n",
      "\n",
      "For example, when doing 'df[col].method(value, inplace=True)', try using 'df.method({col: value}, inplace=True)' or df[col] = df[col].method(value) instead, to perform the operation inplace on the original object.\n",
      "\n",
      "\n",
      "  train_data[feature].fillna(train_data[feature].mode().iloc[0], inplace = True)\n",
      "/tmp/ipykernel_9959/1368184308.py:11: FutureWarning: A value is trying to be set on a copy of a DataFrame or Series through chained assignment using an inplace method.\n",
      "The behavior will change in pandas 3.0. This inplace method will never work because the intermediate object on which we are setting values always behaves as a copy.\n",
      "\n",
      "For example, when doing 'df[col].method(value, inplace=True)', try using 'df.method({col: value}, inplace=True)' or df[col] = df[col].method(value) instead, to perform the operation inplace on the original object.\n",
      "\n",
      "\n",
      "  test_data[feature].fillna(test_data[feature].mode().iloc[0], inplace = True)\n"
     ]
    }
   ],
   "source": [
    "# Here I created two lists that contain the names of the numerical and categorical attributes\n",
    "num_features = [col for col in train_data.columns if train_data[col].dtype == \"int64\" or train_data[col].dtype == \"float64\"]\n",
    "cat_features = [col for col in train_data.columns if train_data[col].dtype == \"object\"]\n",
    "\n",
    "for feature in num_features:\n",
    "  train_data[feature].fillna(train_data[feature].median(), inplace = True)\n",
    "  test_data[feature].fillna(test_data[feature].median(), inplace = True)\n",
    "\n",
    "for feature in cat_features:\n",
    "  train_data[feature].fillna(train_data[feature].mode().iloc[0], inplace = True)\n",
    "  test_data[feature].fillna(test_data[feature].mode().iloc[0], inplace = True)"
   ]
  },
  {
   "cell_type": "code",
   "execution_count": 23,
   "id": "5469f94f",
   "metadata": {
    "execution": {
     "iopub.execute_input": "2023-07-26T11:49:47.053329Z",
     "iopub.status.busy": "2023-07-26T11:49:47.052864Z",
     "iopub.status.idle": "2023-07-26T11:49:47.075881Z",
     "shell.execute_reply": "2023-07-26T11:49:47.074671Z"
    },
    "papermill": {
     "duration": 0.047989,
     "end_time": "2023-07-26T11:49:47.078511",
     "exception": false,
     "start_time": "2023-07-26T11:49:47.030522",
     "status": "completed"
    },
    "tags": []
   },
   "outputs": [
    {
     "data": {
      "text/html": [
       "<div>\n",
       "<style scoped>\n",
       "    .dataframe tbody tr th:only-of-type {\n",
       "        vertical-align: middle;\n",
       "    }\n",
       "\n",
       "    .dataframe tbody tr th {\n",
       "        vertical-align: top;\n",
       "    }\n",
       "\n",
       "    .dataframe thead th {\n",
       "        text-align: right;\n",
       "    }\n",
       "</style>\n",
       "<table border=\"1\" class=\"dataframe\">\n",
       "  <thead>\n",
       "    <tr style=\"text-align: right;\">\n",
       "      <th></th>\n",
       "      <th>HomePlanet</th>\n",
       "      <th>CryoSleep</th>\n",
       "      <th>Destination</th>\n",
       "      <th>Age</th>\n",
       "      <th>VIP</th>\n",
       "      <th>RoomService</th>\n",
       "      <th>FoodCourt</th>\n",
       "      <th>ShoppingMall</th>\n",
       "      <th>Spa</th>\n",
       "      <th>VRDeck</th>\n",
       "      <th>Transported</th>\n",
       "      <th>Deck</th>\n",
       "      <th>Side</th>\n",
       "    </tr>\n",
       "  </thead>\n",
       "  <tbody>\n",
       "    <tr>\n",
       "      <th>0</th>\n",
       "      <td>Europa</td>\n",
       "      <td>0</td>\n",
       "      <td>TRAPPIST-1e</td>\n",
       "      <td>39.0</td>\n",
       "      <td>0</td>\n",
       "      <td>0.0</td>\n",
       "      <td>0.0</td>\n",
       "      <td>0.0</td>\n",
       "      <td>0.0</td>\n",
       "      <td>0.0</td>\n",
       "      <td>False</td>\n",
       "      <td>B</td>\n",
       "      <td>P</td>\n",
       "    </tr>\n",
       "    <tr>\n",
       "      <th>1</th>\n",
       "      <td>Earth</td>\n",
       "      <td>0</td>\n",
       "      <td>TRAPPIST-1e</td>\n",
       "      <td>24.0</td>\n",
       "      <td>0</td>\n",
       "      <td>109.0</td>\n",
       "      <td>9.0</td>\n",
       "      <td>25.0</td>\n",
       "      <td>549.0</td>\n",
       "      <td>44.0</td>\n",
       "      <td>True</td>\n",
       "      <td>F</td>\n",
       "      <td>S</td>\n",
       "    </tr>\n",
       "    <tr>\n",
       "      <th>2</th>\n",
       "      <td>Europa</td>\n",
       "      <td>0</td>\n",
       "      <td>TRAPPIST-1e</td>\n",
       "      <td>58.0</td>\n",
       "      <td>1</td>\n",
       "      <td>43.0</td>\n",
       "      <td>3576.0</td>\n",
       "      <td>0.0</td>\n",
       "      <td>6715.0</td>\n",
       "      <td>49.0</td>\n",
       "      <td>False</td>\n",
       "      <td>A</td>\n",
       "      <td>S</td>\n",
       "    </tr>\n",
       "    <tr>\n",
       "      <th>3</th>\n",
       "      <td>Europa</td>\n",
       "      <td>0</td>\n",
       "      <td>TRAPPIST-1e</td>\n",
       "      <td>33.0</td>\n",
       "      <td>0</td>\n",
       "      <td>0.0</td>\n",
       "      <td>1283.0</td>\n",
       "      <td>371.0</td>\n",
       "      <td>3329.0</td>\n",
       "      <td>193.0</td>\n",
       "      <td>False</td>\n",
       "      <td>A</td>\n",
       "      <td>S</td>\n",
       "    </tr>\n",
       "    <tr>\n",
       "      <th>4</th>\n",
       "      <td>Earth</td>\n",
       "      <td>0</td>\n",
       "      <td>TRAPPIST-1e</td>\n",
       "      <td>16.0</td>\n",
       "      <td>0</td>\n",
       "      <td>303.0</td>\n",
       "      <td>70.0</td>\n",
       "      <td>151.0</td>\n",
       "      <td>565.0</td>\n",
       "      <td>2.0</td>\n",
       "      <td>True</td>\n",
       "      <td>F</td>\n",
       "      <td>S</td>\n",
       "    </tr>\n",
       "  </tbody>\n",
       "</table>\n",
       "</div>"
      ],
      "text/plain": [
       "  HomePlanet  CryoSleep  Destination   Age  VIP  RoomService  FoodCourt  \\\n",
       "0     Europa          0  TRAPPIST-1e  39.0    0          0.0        0.0   \n",
       "1      Earth          0  TRAPPIST-1e  24.0    0        109.0        9.0   \n",
       "2     Europa          0  TRAPPIST-1e  58.0    1         43.0     3576.0   \n",
       "3     Europa          0  TRAPPIST-1e  33.0    0          0.0     1283.0   \n",
       "4      Earth          0  TRAPPIST-1e  16.0    0        303.0       70.0   \n",
       "\n",
       "   ShoppingMall     Spa  VRDeck  Transported Deck Side  \n",
       "0           0.0     0.0     0.0        False    B    P  \n",
       "1          25.0   549.0    44.0         True    F    S  \n",
       "2           0.0  6715.0    49.0        False    A    S  \n",
       "3         371.0  3329.0   193.0        False    A    S  \n",
       "4         151.0   565.0     2.0         True    F    S  "
      ]
     },
     "execution_count": 23,
     "metadata": {},
     "output_type": "execute_result"
    }
   ],
   "source": [
    "train_data.head()"
   ]
  },
  {
   "cell_type": "markdown",
   "id": "3c67848c",
   "metadata": {
    "papermill": {
     "duration": 0.021239,
     "end_time": "2023-07-26T11:49:47.121531",
     "exception": false,
     "start_time": "2023-07-26T11:49:47.100292",
     "status": "completed"
    },
    "tags": []
   },
   "source": [
    "We verify again for missing values and we see that there are none."
   ]
  },
  {
   "cell_type": "code",
   "execution_count": 24,
   "id": "6d088de6",
   "metadata": {
    "execution": {
     "iopub.execute_input": "2023-07-26T11:49:47.168316Z",
     "iopub.status.busy": "2023-07-26T11:49:47.167849Z",
     "iopub.status.idle": "2023-07-26T11:49:47.192711Z",
     "shell.execute_reply": "2023-07-26T11:49:47.191418Z"
    },
    "papermill": {
     "duration": 0.050685,
     "end_time": "2023-07-26T11:49:47.195356",
     "exception": false,
     "start_time": "2023-07-26T11:49:47.144671",
     "status": "completed"
    },
    "tags": []
   },
   "outputs": [
    {
     "data": {
      "text/plain": [
       "HomePlanet      0\n",
       "CryoSleep       0\n",
       "Destination     0\n",
       "Age             0\n",
       "VIP             0\n",
       "RoomService     0\n",
       "FoodCourt       0\n",
       "ShoppingMall    0\n",
       "Spa             0\n",
       "VRDeck          0\n",
       "Transported     0\n",
       "Deck            0\n",
       "Side            0\n",
       "dtype: int64"
      ]
     },
     "execution_count": 24,
     "metadata": {},
     "output_type": "execute_result"
    }
   ],
   "source": [
    "train_data.isnull().sum().sort_values(ascending=False)"
   ]
  },
  {
   "cell_type": "code",
   "execution_count": 25,
   "id": "f6b49655",
   "metadata": {
    "execution": {
     "iopub.execute_input": "2023-07-26T11:49:47.240581Z",
     "iopub.status.busy": "2023-07-26T11:49:47.240171Z",
     "iopub.status.idle": "2023-07-26T11:49:47.262575Z",
     "shell.execute_reply": "2023-07-26T11:49:47.261460Z"
    },
    "papermill": {
     "duration": 0.048224,
     "end_time": "2023-07-26T11:49:47.265019",
     "exception": false,
     "start_time": "2023-07-26T11:49:47.216795",
     "status": "completed"
    },
    "tags": []
   },
   "outputs": [
    {
     "data": {
      "text/html": [
       "<div>\n",
       "<style scoped>\n",
       "    .dataframe tbody tr th:only-of-type {\n",
       "        vertical-align: middle;\n",
       "    }\n",
       "\n",
       "    .dataframe tbody tr th {\n",
       "        vertical-align: top;\n",
       "    }\n",
       "\n",
       "    .dataframe thead th {\n",
       "        text-align: right;\n",
       "    }\n",
       "</style>\n",
       "<table border=\"1\" class=\"dataframe\">\n",
       "  <thead>\n",
       "    <tr style=\"text-align: right;\">\n",
       "      <th></th>\n",
       "      <th>HomePlanet</th>\n",
       "      <th>CryoSleep</th>\n",
       "      <th>Destination</th>\n",
       "      <th>Age</th>\n",
       "      <th>VIP</th>\n",
       "      <th>RoomService</th>\n",
       "      <th>FoodCourt</th>\n",
       "      <th>ShoppingMall</th>\n",
       "      <th>Spa</th>\n",
       "      <th>VRDeck</th>\n",
       "      <th>Transported</th>\n",
       "      <th>Deck</th>\n",
       "      <th>Side</th>\n",
       "    </tr>\n",
       "  </thead>\n",
       "  <tbody>\n",
       "    <tr>\n",
       "      <th>0</th>\n",
       "      <td>Europa</td>\n",
       "      <td>0</td>\n",
       "      <td>TRAPPIST-1e</td>\n",
       "      <td>39.0</td>\n",
       "      <td>0</td>\n",
       "      <td>0.0</td>\n",
       "      <td>0.0</td>\n",
       "      <td>0.0</td>\n",
       "      <td>0.0</td>\n",
       "      <td>0.0</td>\n",
       "      <td>False</td>\n",
       "      <td>B</td>\n",
       "      <td>P</td>\n",
       "    </tr>\n",
       "    <tr>\n",
       "      <th>1</th>\n",
       "      <td>Earth</td>\n",
       "      <td>0</td>\n",
       "      <td>TRAPPIST-1e</td>\n",
       "      <td>24.0</td>\n",
       "      <td>0</td>\n",
       "      <td>109.0</td>\n",
       "      <td>9.0</td>\n",
       "      <td>25.0</td>\n",
       "      <td>549.0</td>\n",
       "      <td>44.0</td>\n",
       "      <td>True</td>\n",
       "      <td>F</td>\n",
       "      <td>S</td>\n",
       "    </tr>\n",
       "    <tr>\n",
       "      <th>2</th>\n",
       "      <td>Europa</td>\n",
       "      <td>0</td>\n",
       "      <td>TRAPPIST-1e</td>\n",
       "      <td>58.0</td>\n",
       "      <td>1</td>\n",
       "      <td>43.0</td>\n",
       "      <td>3576.0</td>\n",
       "      <td>0.0</td>\n",
       "      <td>6715.0</td>\n",
       "      <td>49.0</td>\n",
       "      <td>False</td>\n",
       "      <td>A</td>\n",
       "      <td>S</td>\n",
       "    </tr>\n",
       "    <tr>\n",
       "      <th>3</th>\n",
       "      <td>Europa</td>\n",
       "      <td>0</td>\n",
       "      <td>TRAPPIST-1e</td>\n",
       "      <td>33.0</td>\n",
       "      <td>0</td>\n",
       "      <td>0.0</td>\n",
       "      <td>1283.0</td>\n",
       "      <td>371.0</td>\n",
       "      <td>3329.0</td>\n",
       "      <td>193.0</td>\n",
       "      <td>False</td>\n",
       "      <td>A</td>\n",
       "      <td>S</td>\n",
       "    </tr>\n",
       "    <tr>\n",
       "      <th>4</th>\n",
       "      <td>Earth</td>\n",
       "      <td>0</td>\n",
       "      <td>TRAPPIST-1e</td>\n",
       "      <td>16.0</td>\n",
       "      <td>0</td>\n",
       "      <td>303.0</td>\n",
       "      <td>70.0</td>\n",
       "      <td>151.0</td>\n",
       "      <td>565.0</td>\n",
       "      <td>2.0</td>\n",
       "      <td>True</td>\n",
       "      <td>F</td>\n",
       "      <td>S</td>\n",
       "    </tr>\n",
       "  </tbody>\n",
       "</table>\n",
       "</div>"
      ],
      "text/plain": [
       "  HomePlanet  CryoSleep  Destination   Age  VIP  RoomService  FoodCourt  \\\n",
       "0     Europa          0  TRAPPIST-1e  39.0    0          0.0        0.0   \n",
       "1      Earth          0  TRAPPIST-1e  24.0    0        109.0        9.0   \n",
       "2     Europa          0  TRAPPIST-1e  58.0    1         43.0     3576.0   \n",
       "3     Europa          0  TRAPPIST-1e  33.0    0          0.0     1283.0   \n",
       "4      Earth          0  TRAPPIST-1e  16.0    0        303.0       70.0   \n",
       "\n",
       "   ShoppingMall     Spa  VRDeck  Transported Deck Side  \n",
       "0           0.0     0.0     0.0        False    B    P  \n",
       "1          25.0   549.0    44.0         True    F    S  \n",
       "2           0.0  6715.0    49.0        False    A    S  \n",
       "3         371.0  3329.0   193.0        False    A    S  \n",
       "4         151.0   565.0     2.0         True    F    S  "
      ]
     },
     "execution_count": 25,
     "metadata": {},
     "output_type": "execute_result"
    }
   ],
   "source": [
    "train_data.head()"
   ]
  },
  {
   "cell_type": "markdown",
   "id": "69cc725f",
   "metadata": {
    "papermill": {
     "duration": 0.021182,
     "end_time": "2023-07-26T11:49:47.307824",
     "exception": false,
     "start_time": "2023-07-26T11:49:47.286642",
     "status": "completed"
    },
    "tags": []
   },
   "source": [
    "There are many ways to convert categorical data into numerical data. For this problem I used both ordinal and one-hot encoding.\n",
    "\n",
    "Ordinal encoding refers to assigning an integer to each category of an attribute. I used it for converting the 'Deck' feature, because the decks are placed in an alphabetical order. I applied it by using the **replace** function which changed each element in the attribute following the map provided."
   ]
  },
  {
   "cell_type": "code",
   "execution_count": 26,
   "id": "3c8b6be3",
   "metadata": {
    "execution": {
     "iopub.execute_input": "2023-07-26T11:49:47.353991Z",
     "iopub.status.busy": "2023-07-26T11:49:47.353491Z",
     "iopub.status.idle": "2023-07-26T11:49:47.383545Z",
     "shell.execute_reply": "2023-07-26T11:49:47.382106Z"
    },
    "papermill": {
     "duration": 0.056841,
     "end_time": "2023-07-26T11:49:47.386455",
     "exception": false,
     "start_time": "2023-07-26T11:49:47.329614",
     "status": "completed"
    },
    "tags": []
   },
   "outputs": [
    {
     "name": "stderr",
     "output_type": "stream",
     "text": [
      "/tmp/ipykernel_9959/1939610846.py:2: FutureWarning: Downcasting behavior in `replace` is deprecated and will be removed in a future version. To retain the old behavior, explicitly call `result.infer_objects(copy=False)`. To opt-in to the future behavior, set `pd.set_option('future.no_silent_downcasting', True)`\n",
      "  train_data[\"Deck\"] = train_data[\"Deck\"].replace(deck_mapping)\n",
      "/tmp/ipykernel_9959/1939610846.py:3: FutureWarning: Downcasting behavior in `replace` is deprecated and will be removed in a future version. To retain the old behavior, explicitly call `result.infer_objects(copy=False)`. To opt-in to the future behavior, set `pd.set_option('future.no_silent_downcasting', True)`\n",
      "  test_data[\"Deck\"] = test_data[\"Deck\"].replace(deck_mapping)\n"
     ]
    }
   ],
   "source": [
    "deck_mapping = {\"A\": 1, \"B\": 2, \"C\": 3, \"D\": 4, \"E\": 5, \"F\": 6, \"G\": 7, \"T\": 8}\n",
    "train_data[\"Deck\"] = train_data[\"Deck\"].replace(deck_mapping)\n",
    "test_data[\"Deck\"] = test_data[\"Deck\"].replace(deck_mapping)"
   ]
  },
  {
   "cell_type": "markdown",
   "id": "7a2d232b",
   "metadata": {
    "papermill": {
     "duration": 0.021435,
     "end_time": "2023-07-26T11:49:47.430597",
     "exception": false,
     "start_time": "2023-07-26T11:49:47.409162",
     "status": "completed"
    },
    "tags": []
   },
   "source": [
    "In one-hot encoding the categorical feature is removed and multiple columns with binary values (one for each category) are added to the DataFrame. For example, take the feature 'HomePlanet'. There are three categories for this attribute: Earth, Europa and Mars. After applying one-hot encoding the attribute 'HomePlanet' will be erased from the dataset and three other attributes are created: 'HomePlanet_Earth', 'HomePlanet_Europa' and 'HomePlanet_Mars'. If Passenger1 is from Earth then she will get a 1 in the 'HomePlanet_Earth' column and a 0 in the other two.\n",
    "\n",
    "I did this by using the **get_dummies** function. "
   ]
  },
  {
   "cell_type": "code",
   "execution_count": 27,
   "id": "e2180ddc",
   "metadata": {
    "execution": {
     "iopub.execute_input": "2023-07-26T11:49:47.475843Z",
     "iopub.status.busy": "2023-07-26T11:49:47.475327Z",
     "iopub.status.idle": "2023-07-26T11:49:47.499927Z",
     "shell.execute_reply": "2023-07-26T11:49:47.498790Z"
    },
    "papermill": {
     "duration": 0.050431,
     "end_time": "2023-07-26T11:49:47.502642",
     "exception": false,
     "start_time": "2023-07-26T11:49:47.452211",
     "status": "completed"
    },
    "tags": []
   },
   "outputs": [],
   "source": [
    "train_data = pd.get_dummies(train_data).copy()\n",
    "test_data = pd.get_dummies(test_data).copy()"
   ]
  },
  {
   "cell_type": "code",
   "execution_count": 28,
   "id": "e0728be5",
   "metadata": {
    "execution": {
     "iopub.execute_input": "2023-07-26T11:49:47.548429Z",
     "iopub.status.busy": "2023-07-26T11:49:47.547207Z",
     "iopub.status.idle": "2023-07-26T11:49:47.573498Z",
     "shell.execute_reply": "2023-07-26T11:49:47.572332Z"
    },
    "papermill": {
     "duration": 0.051769,
     "end_time": "2023-07-26T11:49:47.576017",
     "exception": false,
     "start_time": "2023-07-26T11:49:47.524248",
     "status": "completed"
    },
    "tags": []
   },
   "outputs": [
    {
     "data": {
      "text/html": [
       "<div>\n",
       "<style scoped>\n",
       "    .dataframe tbody tr th:only-of-type {\n",
       "        vertical-align: middle;\n",
       "    }\n",
       "\n",
       "    .dataframe tbody tr th {\n",
       "        vertical-align: top;\n",
       "    }\n",
       "\n",
       "    .dataframe thead th {\n",
       "        text-align: right;\n",
       "    }\n",
       "</style>\n",
       "<table border=\"1\" class=\"dataframe\">\n",
       "  <thead>\n",
       "    <tr style=\"text-align: right;\">\n",
       "      <th></th>\n",
       "      <th>CryoSleep</th>\n",
       "      <th>Age</th>\n",
       "      <th>VIP</th>\n",
       "      <th>RoomService</th>\n",
       "      <th>FoodCourt</th>\n",
       "      <th>ShoppingMall</th>\n",
       "      <th>Spa</th>\n",
       "      <th>VRDeck</th>\n",
       "      <th>Transported</th>\n",
       "      <th>Deck</th>\n",
       "      <th>HomePlanet_Earth</th>\n",
       "      <th>HomePlanet_Europa</th>\n",
       "      <th>HomePlanet_Mars</th>\n",
       "      <th>Destination_55 Cancri e</th>\n",
       "      <th>Destination_PSO J318.5-22</th>\n",
       "      <th>Destination_TRAPPIST-1e</th>\n",
       "      <th>Side_P</th>\n",
       "      <th>Side_S</th>\n",
       "    </tr>\n",
       "  </thead>\n",
       "  <tbody>\n",
       "    <tr>\n",
       "      <th>0</th>\n",
       "      <td>0</td>\n",
       "      <td>39.0</td>\n",
       "      <td>0</td>\n",
       "      <td>0.0</td>\n",
       "      <td>0.0</td>\n",
       "      <td>0.0</td>\n",
       "      <td>0.0</td>\n",
       "      <td>0.0</td>\n",
       "      <td>False</td>\n",
       "      <td>2</td>\n",
       "      <td>False</td>\n",
       "      <td>True</td>\n",
       "      <td>False</td>\n",
       "      <td>False</td>\n",
       "      <td>False</td>\n",
       "      <td>True</td>\n",
       "      <td>True</td>\n",
       "      <td>False</td>\n",
       "    </tr>\n",
       "    <tr>\n",
       "      <th>1</th>\n",
       "      <td>0</td>\n",
       "      <td>24.0</td>\n",
       "      <td>0</td>\n",
       "      <td>109.0</td>\n",
       "      <td>9.0</td>\n",
       "      <td>25.0</td>\n",
       "      <td>549.0</td>\n",
       "      <td>44.0</td>\n",
       "      <td>True</td>\n",
       "      <td>6</td>\n",
       "      <td>True</td>\n",
       "      <td>False</td>\n",
       "      <td>False</td>\n",
       "      <td>False</td>\n",
       "      <td>False</td>\n",
       "      <td>True</td>\n",
       "      <td>False</td>\n",
       "      <td>True</td>\n",
       "    </tr>\n",
       "    <tr>\n",
       "      <th>2</th>\n",
       "      <td>0</td>\n",
       "      <td>58.0</td>\n",
       "      <td>1</td>\n",
       "      <td>43.0</td>\n",
       "      <td>3576.0</td>\n",
       "      <td>0.0</td>\n",
       "      <td>6715.0</td>\n",
       "      <td>49.0</td>\n",
       "      <td>False</td>\n",
       "      <td>1</td>\n",
       "      <td>False</td>\n",
       "      <td>True</td>\n",
       "      <td>False</td>\n",
       "      <td>False</td>\n",
       "      <td>False</td>\n",
       "      <td>True</td>\n",
       "      <td>False</td>\n",
       "      <td>True</td>\n",
       "    </tr>\n",
       "    <tr>\n",
       "      <th>3</th>\n",
       "      <td>0</td>\n",
       "      <td>33.0</td>\n",
       "      <td>0</td>\n",
       "      <td>0.0</td>\n",
       "      <td>1283.0</td>\n",
       "      <td>371.0</td>\n",
       "      <td>3329.0</td>\n",
       "      <td>193.0</td>\n",
       "      <td>False</td>\n",
       "      <td>1</td>\n",
       "      <td>False</td>\n",
       "      <td>True</td>\n",
       "      <td>False</td>\n",
       "      <td>False</td>\n",
       "      <td>False</td>\n",
       "      <td>True</td>\n",
       "      <td>False</td>\n",
       "      <td>True</td>\n",
       "    </tr>\n",
       "    <tr>\n",
       "      <th>4</th>\n",
       "      <td>0</td>\n",
       "      <td>16.0</td>\n",
       "      <td>0</td>\n",
       "      <td>303.0</td>\n",
       "      <td>70.0</td>\n",
       "      <td>151.0</td>\n",
       "      <td>565.0</td>\n",
       "      <td>2.0</td>\n",
       "      <td>True</td>\n",
       "      <td>6</td>\n",
       "      <td>True</td>\n",
       "      <td>False</td>\n",
       "      <td>False</td>\n",
       "      <td>False</td>\n",
       "      <td>False</td>\n",
       "      <td>True</td>\n",
       "      <td>False</td>\n",
       "      <td>True</td>\n",
       "    </tr>\n",
       "  </tbody>\n",
       "</table>\n",
       "</div>"
      ],
      "text/plain": [
       "   CryoSleep   Age  VIP  RoomService  FoodCourt  ShoppingMall     Spa  VRDeck  \\\n",
       "0          0  39.0    0          0.0        0.0           0.0     0.0     0.0   \n",
       "1          0  24.0    0        109.0        9.0          25.0   549.0    44.0   \n",
       "2          0  58.0    1         43.0     3576.0           0.0  6715.0    49.0   \n",
       "3          0  33.0    0          0.0     1283.0         371.0  3329.0   193.0   \n",
       "4          0  16.0    0        303.0       70.0         151.0   565.0     2.0   \n",
       "\n",
       "   Transported  Deck  HomePlanet_Earth  HomePlanet_Europa  HomePlanet_Mars  \\\n",
       "0        False     2             False               True            False   \n",
       "1         True     6              True              False            False   \n",
       "2        False     1             False               True            False   \n",
       "3        False     1             False               True            False   \n",
       "4         True     6              True              False            False   \n",
       "\n",
       "   Destination_55 Cancri e  Destination_PSO J318.5-22  \\\n",
       "0                    False                      False   \n",
       "1                    False                      False   \n",
       "2                    False                      False   \n",
       "3                    False                      False   \n",
       "4                    False                      False   \n",
       "\n",
       "   Destination_TRAPPIST-1e  Side_P  Side_S  \n",
       "0                     True    True   False  \n",
       "1                     True   False    True  \n",
       "2                     True   False    True  \n",
       "3                     True   False    True  \n",
       "4                     True   False    True  "
      ]
     },
     "execution_count": 28,
     "metadata": {},
     "output_type": "execute_result"
    }
   ],
   "source": [
    "train_data.head()"
   ]
  },
  {
   "cell_type": "markdown",
   "id": "27f808bd",
   "metadata": {
    "papermill": {
     "duration": 0.02185,
     "end_time": "2023-07-26T11:49:47.619905",
     "exception": false,
     "start_time": "2023-07-26T11:49:47.598055",
     "status": "completed"
    },
    "tags": []
   },
   "source": [
    "# Model"
   ]
  },
  {
   "cell_type": "markdown",
   "id": "f3ac2520",
   "metadata": {
    "papermill": {
     "duration": 0.021509,
     "end_time": "2023-07-26T11:49:47.663495",
     "exception": false,
     "start_time": "2023-07-26T11:49:47.641986",
     "status": "completed"
    },
    "tags": []
   },
   "source": [
    "Before fitting any model to our data, we have to make sure that we have a way to test the accuracy of each model. That's why we are going to train the model with 80% of our data and then test it with the rest. Scikit Learn has a specialized function called **train_test_split** that does just that. For a detailed explanation about the parameters of this function please check out the official documentation."
   ]
  },
  {
   "cell_type": "code",
   "execution_count": 29,
   "id": "569d5dbd",
   "metadata": {
    "execution": {
     "iopub.execute_input": "2023-07-26T11:49:47.710422Z",
     "iopub.status.busy": "2023-07-26T11:49:47.709618Z",
     "iopub.status.idle": "2023-07-26T11:49:49.243481Z",
     "shell.execute_reply": "2023-07-26T11:49:49.241898Z"
    },
    "papermill": {
     "duration": 1.561379,
     "end_time": "2023-07-26T11:49:49.246779",
     "exception": false,
     "start_time": "2023-07-26T11:49:47.685400",
     "status": "completed"
    },
    "tags": []
   },
   "outputs": [],
   "source": [
    "from sklearn.model_selection import train_test_split\n",
    "\n",
    "# We create a separate variable that contains the labels and then erase them from our data\n",
    "y = train_data.Transported.copy()\n",
    "train_data = train_data.drop(['Transported'], axis = 1)\n",
    "\n",
    "X_train, X_test, y_train, y_test = train_test_split(train_data, y, test_size = 0.2)"
   ]
  },
  {
   "cell_type": "markdown",
   "id": "3290059e",
   "metadata": {
    "papermill": {
     "duration": 0.021471,
     "end_time": "2023-07-26T11:49:49.290215",
     "exception": false,
     "start_time": "2023-07-26T11:49:49.268744",
     "status": "completed"
    },
    "tags": []
   },
   "source": [
    "For computing the prediction accuracy of each model I used the scikit learn function **accuracy_score**."
   ]
  },
  {
   "cell_type": "code",
   "execution_count": 30,
   "id": "6c87918b",
   "metadata": {
    "execution": {
     "iopub.execute_input": "2023-07-26T11:49:49.336290Z",
     "iopub.status.busy": "2023-07-26T11:49:49.335797Z",
     "iopub.status.idle": "2023-07-26T11:49:49.341609Z",
     "shell.execute_reply": "2023-07-26T11:49:49.340280Z"
    },
    "papermill": {
     "duration": 0.031767,
     "end_time": "2023-07-26T11:49:49.344070",
     "exception": false,
     "start_time": "2023-07-26T11:49:49.312303",
     "status": "completed"
    },
    "tags": []
   },
   "outputs": [],
   "source": [
    "from sklearn.metrics import accuracy_score"
   ]
  },
  {
   "cell_type": "markdown",
   "id": "a5c79526",
   "metadata": {
    "papermill": {
     "duration": 0.022071,
     "end_time": "2023-07-26T11:49:49.388124",
     "exception": false,
     "start_time": "2023-07-26T11:49:49.366053",
     "status": "completed"
    },
    "tags": []
   },
   "source": [
    "Scikit Learn provides many machine learning models that are useful depending on the problem that you're trying to solve. Here I explored just five models to give you the gist of it but feel free to experiment with other models as well. I am not going to explain how each model creates the prediction, because this is beyond the scope of this notebook. However, I am going to explain the structure that I used here. \n",
    "\n",
    "First, I created a variable that contains the model and fitted it to the training data. I used the function **fit** for this. Then I made the prediction for the testing data using **predict** function. Finally, I computed the accuracy of the prediction. "
   ]
  },
  {
   "cell_type": "code",
   "execution_count": 40,
   "id": "89ea011b",
   "metadata": {
    "execution": {
     "iopub.execute_input": "2023-07-26T11:49:49.437133Z",
     "iopub.status.busy": "2023-07-26T11:49:49.435982Z",
     "iopub.status.idle": "2023-07-26T11:49:52.018693Z",
     "shell.execute_reply": "2023-07-26T11:49:52.017768Z"
    },
    "papermill": {
     "duration": 2.609706,
     "end_time": "2023-07-26T11:49:52.020876",
     "exception": false,
     "start_time": "2023-07-26T11:49:49.411170",
     "status": "completed"
    },
    "tags": []
   },
   "outputs": [
    {
     "data": {
      "text/plain": [
       "0.7866589994249569"
      ]
     },
     "execution_count": 40,
     "metadata": {},
     "output_type": "execute_result"
    }
   ],
   "source": [
    "from sklearn.svm import SVC\n",
    "\n",
    "svc = SVC()\n",
    "svc.fit(X_train, y_train)\n",
    "svm_pred = svc.predict(X_test)\n",
    "svc_accuracy = accuracy_score(y_test, svm_pred )\n",
    "\n",
    "svc_accuracy"
   ]
  },
  {
   "cell_type": "code",
   "execution_count": 41,
   "id": "da0346b1",
   "metadata": {
    "execution": {
     "iopub.execute_input": "2023-07-26T11:49:52.068082Z",
     "iopub.status.busy": "2023-07-26T11:49:52.067350Z",
     "iopub.status.idle": "2023-07-26T11:49:52.112860Z",
     "shell.execute_reply": "2023-07-26T11:49:52.111087Z"
    },
    "papermill": {
     "duration": 0.075021,
     "end_time": "2023-07-26T11:49:52.118173",
     "exception": false,
     "start_time": "2023-07-26T11:49:52.043152",
     "status": "completed"
    },
    "tags": []
   },
   "outputs": [
    {
     "data": {
      "text/plain": [
       "0.7883841288096607"
      ]
     },
     "execution_count": 41,
     "metadata": {},
     "output_type": "execute_result"
    }
   ],
   "source": [
    "from sklearn.linear_model import SGDClassifier\n",
    "\n",
    "sgd = SGDClassifier()\n",
    "sgd.fit(X_train, y_train)\n",
    "sgd_pred = sgd.predict(X_test)\n",
    "sgd_accuracy = accuracy_score( y_test, sgd_pred)\n",
    "\n",
    "sgd_accuracy"
   ]
  },
  {
   "cell_type": "code",
   "execution_count": 42,
   "id": "48c18256",
   "metadata": {
    "execution": {
     "iopub.execute_input": "2023-07-26T11:49:52.220096Z",
     "iopub.status.busy": "2023-07-26T11:49:52.219213Z",
     "iopub.status.idle": "2023-07-26T11:49:52.469327Z",
     "shell.execute_reply": "2023-07-26T11:49:52.468276Z"
    },
    "papermill": {
     "duration": 0.302358,
     "end_time": "2023-07-26T11:49:52.471604",
     "exception": false,
     "start_time": "2023-07-26T11:49:52.169246",
     "status": "completed"
    },
    "tags": []
   },
   "outputs": [
    {
     "data": {
      "text/plain": [
       "0.7285796434732605"
      ]
     },
     "execution_count": 42,
     "metadata": {},
     "output_type": "execute_result"
    }
   ],
   "source": [
    "from sklearn.tree import DecisionTreeClassifier\n",
    "\n",
    "decision_tree = DecisionTreeClassifier()\n",
    "decision_tree.fit(X_train, y_train)\n",
    "decision_tree_pred = decision_tree.predict(X_test)\n",
    "decision_tree_accuracy = accuracy_score( y_test, decision_tree_pred,)\n",
    "\n",
    "decision_tree_accuracy"
   ]
  },
  {
   "cell_type": "code",
   "execution_count": 43,
   "id": "f2a44bb6",
   "metadata": {
    "execution": {
     "iopub.execute_input": "2023-07-26T11:49:52.519972Z",
     "iopub.status.busy": "2023-07-26T11:49:52.519252Z",
     "iopub.status.idle": "2023-07-26T11:49:53.822997Z",
     "shell.execute_reply": "2023-07-26T11:49:53.821365Z"
    },
    "papermill": {
     "duration": 1.331156,
     "end_time": "2023-07-26T11:49:53.825933",
     "exception": false,
     "start_time": "2023-07-26T11:49:52.494777",
     "status": "completed"
    },
    "tags": []
   },
   "outputs": [
    {
     "data": {
      "text/plain": [
       "0.7866589994249569"
      ]
     },
     "execution_count": 43,
     "metadata": {},
     "output_type": "execute_result"
    }
   ],
   "source": [
    "from sklearn.ensemble import RandomForestClassifier\n",
    "\n",
    "random_forest = RandomForestClassifier(n_estimators=100)\n",
    "random_forest.fit(X_train, y_train)\n",
    "random_forest_pred = random_forest.predict(X_test)\n",
    "random_forest_accuracy = accuracy_score(y_test, random_forest_pred )\n",
    "\n",
    "random_forest_accuracy"
   ]
  },
  {
   "cell_type": "code",
   "execution_count": 44,
   "id": "e8ad881c",
   "metadata": {
    "execution": {
     "iopub.execute_input": "2023-07-26T11:49:53.874858Z",
     "iopub.status.busy": "2023-07-26T11:49:53.874123Z",
     "iopub.status.idle": "2023-07-26T11:49:54.902920Z",
     "shell.execute_reply": "2023-07-26T11:49:54.901636Z"
    },
    "papermill": {
     "duration": 1.056449,
     "end_time": "2023-07-26T11:49:54.905717",
     "exception": false,
     "start_time": "2023-07-26T11:49:53.849268",
     "status": "completed"
    },
    "tags": []
   },
   "outputs": [
    {
     "data": {
      "text/plain": [
       "0.78953421506613"
      ]
     },
     "execution_count": 44,
     "metadata": {},
     "output_type": "execute_result"
    }
   ],
   "source": [
    "from sklearn.ensemble import GradientBoostingClassifier\n",
    "\n",
    "gbc = GradientBoostingClassifier(random_state = 42)\n",
    "gbc.fit(X_train, y_train)\n",
    "gbc_pred = gbc.predict(X_test)\n",
    "gbc_accuracy = accuracy_score(y_test, gbc_pred )\n",
    "\n",
    "gbc_accuracy"
   ]
  },
  {
   "cell_type": "markdown",
   "id": "9f3dd185",
   "metadata": {
    "papermill": {
     "duration": 0.023272,
     "end_time": "2023-07-26T11:49:54.953894",
     "exception": false,
     "start_time": "2023-07-26T11:49:54.930622",
     "status": "completed"
    },
    "tags": []
   },
   "source": [
    "Here is a piece of code that provides us with a DataFrame with the names of all the models and their performance."
   ]
  },
  {
   "cell_type": "code",
   "execution_count": 45,
   "id": "8ef6388a",
   "metadata": {
    "execution": {
     "iopub.execute_input": "2023-07-26T11:49:55.003732Z",
     "iopub.status.busy": "2023-07-26T11:49:55.003130Z",
     "iopub.status.idle": "2023-07-26T11:49:55.017911Z",
     "shell.execute_reply": "2023-07-26T11:49:55.016882Z"
    },
    "papermill": {
     "duration": 0.04291,
     "end_time": "2023-07-26T11:49:55.020384",
     "exception": false,
     "start_time": "2023-07-26T11:49:54.977474",
     "status": "completed"
    },
    "tags": []
   },
   "outputs": [
    {
     "data": {
      "text/html": [
       "<div>\n",
       "<style scoped>\n",
       "    .dataframe tbody tr th:only-of-type {\n",
       "        vertical-align: middle;\n",
       "    }\n",
       "\n",
       "    .dataframe tbody tr th {\n",
       "        vertical-align: top;\n",
       "    }\n",
       "\n",
       "    .dataframe thead th {\n",
       "        text-align: right;\n",
       "    }\n",
       "</style>\n",
       "<table border=\"1\" class=\"dataframe\">\n",
       "  <thead>\n",
       "    <tr style=\"text-align: right;\">\n",
       "      <th></th>\n",
       "      <th>Model</th>\n",
       "      <th>Accuracy</th>\n",
       "    </tr>\n",
       "  </thead>\n",
       "  <tbody>\n",
       "    <tr>\n",
       "      <th>4</th>\n",
       "      <td>GradientBoostingClassifier</td>\n",
       "      <td>0.789534</td>\n",
       "    </tr>\n",
       "    <tr>\n",
       "      <th>1</th>\n",
       "      <td>Stochastic Gradient Decent</td>\n",
       "      <td>0.788384</td>\n",
       "    </tr>\n",
       "    <tr>\n",
       "      <th>0</th>\n",
       "      <td>Support Vector Machines</td>\n",
       "      <td>0.786659</td>\n",
       "    </tr>\n",
       "    <tr>\n",
       "      <th>3</th>\n",
       "      <td>Random Forest</td>\n",
       "      <td>0.786659</td>\n",
       "    </tr>\n",
       "    <tr>\n",
       "      <th>2</th>\n",
       "      <td>Decision Tree</td>\n",
       "      <td>0.728580</td>\n",
       "    </tr>\n",
       "  </tbody>\n",
       "</table>\n",
       "</div>"
      ],
      "text/plain": [
       "                        Model  Accuracy\n",
       "4  GradientBoostingClassifier  0.789534\n",
       "1  Stochastic Gradient Decent  0.788384\n",
       "0     Support Vector Machines  0.786659\n",
       "3               Random Forest  0.786659\n",
       "2               Decision Tree  0.728580"
      ]
     },
     "execution_count": 45,
     "metadata": {},
     "output_type": "execute_result"
    }
   ],
   "source": [
    "models = pd.DataFrame({\n",
    "    'Model': ['Support Vector Machines', 'Stochastic Gradient Decent', 'Decision Tree','Random Forest',\n",
    "              'GradientBoostingClassifier'],\n",
    "    'Accuracy': [svc_accuracy, sgd_accuracy, decision_tree_accuracy, random_forest_accuracy, gbc_accuracy]})\n",
    "models.sort_values(by='Accuracy', ascending=False)"
   ]
  },
  {
   "cell_type": "markdown",
   "id": "0b21a2ed",
   "metadata": {
    "papermill": {
     "duration": 0.023222,
     "end_time": "2023-07-26T11:49:55.067417",
     "exception": false,
     "start_time": "2023-07-26T11:49:55.044195",
     "status": "completed"
    },
    "tags": []
   },
   "source": [
    "I made the final prediction for the competition using the model that performed the best: GradientBoostingClassifier."
   ]
  },
  {
   "cell_type": "code",
   "execution_count": 37,
   "id": "80f8f0f6",
   "metadata": {
    "execution": {
     "iopub.execute_input": "2023-07-26T11:49:55.119496Z",
     "iopub.status.busy": "2023-07-26T11:49:55.118730Z",
     "iopub.status.idle": "2023-07-26T11:49:55.134015Z",
     "shell.execute_reply": "2023-07-26T11:49:55.133088Z"
    },
    "papermill": {
     "duration": 0.045297,
     "end_time": "2023-07-26T11:49:55.137029",
     "exception": false,
     "start_time": "2023-07-26T11:49:55.091732",
     "status": "completed"
    },
    "tags": []
   },
   "outputs": [],
   "source": [
    "pred = gbc.predict(test_data)"
   ]
  },
  {
   "cell_type": "markdown",
   "id": "4367a7ba",
   "metadata": {
    "papermill": {
     "duration": 0.026884,
     "end_time": "2023-07-26T11:49:55.189826",
     "exception": false,
     "start_time": "2023-07-26T11:49:55.162942",
     "status": "completed"
    },
    "tags": []
   },
   "source": [
    "We organize our data in order to make a submission."
   ]
  },
  {
   "cell_type": "code",
   "execution_count": 49,
   "id": "4fdf1620",
   "metadata": {
    "execution": {
     "iopub.execute_input": "2023-07-26T11:49:55.240367Z",
     "iopub.status.busy": "2023-07-26T11:49:55.239605Z",
     "iopub.status.idle": "2023-07-26T11:49:55.279789Z",
     "shell.execute_reply": "2023-07-26T11:49:55.278437Z"
    },
    "papermill": {
     "duration": 0.068846,
     "end_time": "2023-07-26T11:49:55.282379",
     "exception": false,
     "start_time": "2023-07-26T11:49:55.213533",
     "status": "completed"
    },
    "tags": []
   },
   "outputs": [
    {
     "data": {
      "text/html": [
       "<div>\n",
       "<style scoped>\n",
       "    .dataframe tbody tr th:only-of-type {\n",
       "        vertical-align: middle;\n",
       "    }\n",
       "\n",
       "    .dataframe tbody tr th {\n",
       "        vertical-align: top;\n",
       "    }\n",
       "\n",
       "    .dataframe thead th {\n",
       "        text-align: right;\n",
       "    }\n",
       "</style>\n",
       "<table border=\"1\" class=\"dataframe\">\n",
       "  <thead>\n",
       "    <tr style=\"text-align: right;\">\n",
       "      <th></th>\n",
       "      <th>PassengerId</th>\n",
       "      <th>Transported</th>\n",
       "    </tr>\n",
       "  </thead>\n",
       "  <tbody>\n",
       "    <tr>\n",
       "      <th>0</th>\n",
       "      <td>0013_01</td>\n",
       "      <td>True</td>\n",
       "    </tr>\n",
       "    <tr>\n",
       "      <th>1</th>\n",
       "      <td>0018_01</td>\n",
       "      <td>False</td>\n",
       "    </tr>\n",
       "    <tr>\n",
       "      <th>2</th>\n",
       "      <td>0019_01</td>\n",
       "      <td>True</td>\n",
       "    </tr>\n",
       "    <tr>\n",
       "      <th>3</th>\n",
       "      <td>0021_01</td>\n",
       "      <td>True</td>\n",
       "    </tr>\n",
       "    <tr>\n",
       "      <th>4</th>\n",
       "      <td>0023_01</td>\n",
       "      <td>True</td>\n",
       "    </tr>\n",
       "    <tr>\n",
       "      <th>5</th>\n",
       "      <td>0027_01</td>\n",
       "      <td>True</td>\n",
       "    </tr>\n",
       "    <tr>\n",
       "      <th>6</th>\n",
       "      <td>0029_01</td>\n",
       "      <td>True</td>\n",
       "    </tr>\n",
       "    <tr>\n",
       "      <th>7</th>\n",
       "      <td>0032_01</td>\n",
       "      <td>True</td>\n",
       "    </tr>\n",
       "    <tr>\n",
       "      <th>8</th>\n",
       "      <td>0032_02</td>\n",
       "      <td>True</td>\n",
       "    </tr>\n",
       "    <tr>\n",
       "      <th>9</th>\n",
       "      <td>0033_01</td>\n",
       "      <td>True</td>\n",
       "    </tr>\n",
       "  </tbody>\n",
       "</table>\n",
       "</div>"
      ],
      "text/plain": [
       "  PassengerId  Transported\n",
       "0     0013_01         True\n",
       "1     0018_01        False\n",
       "2     0019_01         True\n",
       "3     0021_01         True\n",
       "4     0023_01         True\n",
       "5     0027_01         True\n",
       "6     0029_01         True\n",
       "7     0032_01         True\n",
       "8     0032_02         True\n",
       "9     0033_01         True"
      ]
     },
     "execution_count": 49,
     "metadata": {},
     "output_type": "execute_result"
    }
   ],
   "source": [
    "submission_data = pd.read_csv('../data/sample_submission.csv')\n",
    "submission_data['Transported'] = pred.astype(\"bool\")\n",
    "submission_data.to_csv(\"submission.csv\",index=False)\n",
    "submission_data.head(10)"
   ]
  }
 ],
 "metadata": {
  "kernelspec": {
   "display_name": "Python 3",
   "language": "python",
   "name": "python3"
  },
  "language_info": {
   "codemirror_mode": {
    "name": "ipython",
    "version": 3
   },
   "file_extension": ".py",
   "mimetype": "text/x-python",
   "name": "python",
   "nbconvert_exporter": "python",
   "pygments_lexer": "ipython3",
   "version": "3.9.19"
  },
  "papermill": {
   "default_parameters": {},
   "duration": 26.074415,
   "end_time": "2023-07-26T11:49:57.793036",
   "environment_variables": {},
   "exception": null,
   "input_path": "__notebook__.ipynb",
   "output_path": "__notebook__.ipynb",
   "parameters": {},
   "start_time": "2023-07-26T11:49:31.718621",
   "version": "2.4.0"
  }
 },
 "nbformat": 4,
 "nbformat_minor": 5
}
