{
 "cells": [
  {
   "cell_type": "markdown",
   "metadata": {},
   "source": [
    "# 🦄 The Fantasy Zookeeper\n",
    "\n",
    "**Scenario:**\n",
    "\n",
    "Congratulations! You've been hired as a data analyst at Fantasy Zoo, the world's first zoo for mythical creatures. Your job is to analyze the data of the mythical creatures living at the zoo and provide insights to help improve their wellbeing.\n",
    "\n",
    "You've been given a **dataset** containing the following columns:\n",
    "* `creature_name`: Name of the creature\n",
    "* `creature_type`: Type of the creature (e.g., dragon, unicorn, etc.)\n",
    "* `age`: Age of the creature (in years)\n",
    "* `health_status`: Health status of the creature (Excellent, Good, Fair, Poor)\n",
    "* `magical_ability_score`: Score representing the creature's magical ability (0-100)\n",
    "\n",
    "**Exercise:**\n",
    "\n",
    "In order to organize the animals into different habitats, you've been asked to answer the fsome questions regarding this dataset:"
   ]
  },
  {
   "cell_type": "code",
   "execution_count": 39,
   "metadata": {},
   "outputs": [],
   "source": [
    "import pandas as pd\n",
    "import numpy as np\n",
    "import random\n",
    "\n",
    "random.seed(42)\n",
    "#np.random.seed(42)\n",
    "\n",
    "# Define the number of creatures\n",
    "num_creatures = 100\n",
    "\n",
    "# Define the creature types\n",
    "creature_types = ['Dragon', 'Unicorn', 'Griffin', 'Phoenix', 'Mermaid', 'Centaur']\n",
    "\n",
    "# Generate random data\n",
    "data = {\n",
    "    'creature_name': ['Creature' + str(i) for i in range(num_creatures)],\n",
    "    'creature_type': np.random.choice(creature_types, num_creatures),\n",
    "    'age': np.random.randint(1, 1000, num_creatures),\n",
    "    'health_status': np.random.choice(['Excellent', 'Good', 'Fair', 'Poor'], num_creatures),\n",
    "    'magical_ability_score': np.random.randint(0, 101, num_creatures)\n",
    "}\n",
    "\n",
    "# Create a DataFrame\n",
    "df = pd.DataFrame(data)"
   ]
  },
  {
   "cell_type": "markdown",
   "metadata": {},
   "source": [
    "1. Display the first 5 rows of the dataframe."
   ]
  },
  {
   "cell_type": "code",
   "execution_count": 40,
   "metadata": {},
   "outputs": [
    {
     "data": {
      "text/html": [
       "<div>\n",
       "<style scoped>\n",
       "    .dataframe tbody tr th:only-of-type {\n",
       "        vertical-align: middle;\n",
       "    }\n",
       "\n",
       "    .dataframe tbody tr th {\n",
       "        vertical-align: top;\n",
       "    }\n",
       "\n",
       "    .dataframe thead th {\n",
       "        text-align: right;\n",
       "    }\n",
       "</style>\n",
       "<table border=\"1\" class=\"dataframe\">\n",
       "  <thead>\n",
       "    <tr style=\"text-align: right;\">\n",
       "      <th></th>\n",
       "      <th>creature_name</th>\n",
       "      <th>creature_type</th>\n",
       "      <th>age</th>\n",
       "      <th>health_status</th>\n",
       "      <th>magical_ability_score</th>\n",
       "    </tr>\n",
       "  </thead>\n",
       "  <tbody>\n",
       "    <tr>\n",
       "      <th>0</th>\n",
       "      <td>Creature0</td>\n",
       "      <td>Mermaid</td>\n",
       "      <td>866</td>\n",
       "      <td>Excellent</td>\n",
       "      <td>73</td>\n",
       "    </tr>\n",
       "    <tr>\n",
       "      <th>1</th>\n",
       "      <td>Creature1</td>\n",
       "      <td>Mermaid</td>\n",
       "      <td>524</td>\n",
       "      <td>Poor</td>\n",
       "      <td>97</td>\n",
       "    </tr>\n",
       "    <tr>\n",
       "      <th>2</th>\n",
       "      <td>Creature2</td>\n",
       "      <td>Unicorn</td>\n",
       "      <td>275</td>\n",
       "      <td>Excellent</td>\n",
       "      <td>56</td>\n",
       "    </tr>\n",
       "    <tr>\n",
       "      <th>3</th>\n",
       "      <td>Creature3</td>\n",
       "      <td>Mermaid</td>\n",
       "      <td>613</td>\n",
       "      <td>Good</td>\n",
       "      <td>89</td>\n",
       "    </tr>\n",
       "    <tr>\n",
       "      <th>4</th>\n",
       "      <td>Creature4</td>\n",
       "      <td>Griffin</td>\n",
       "      <td>44</td>\n",
       "      <td>Poor</td>\n",
       "      <td>40</td>\n",
       "    </tr>\n",
       "  </tbody>\n",
       "</table>\n",
       "</div>"
      ],
      "text/plain": [
       "  creature_name creature_type  age health_status  magical_ability_score\n",
       "0     Creature0       Mermaid  866     Excellent                     73\n",
       "1     Creature1       Mermaid  524          Poor                     97\n",
       "2     Creature2       Unicorn  275     Excellent                     56\n",
       "3     Creature3       Mermaid  613          Good                     89\n",
       "4     Creature4       Griffin   44          Poor                     40"
      ]
     },
     "execution_count": 40,
     "metadata": {},
     "output_type": "execute_result"
    }
   ],
   "source": [
    "df.head()"
   ]
  },
  {
   "cell_type": "markdown",
   "metadata": {},
   "source": [
    "2. Calculate and print the total number of creatures in the zoo."
   ]
  },
  {
   "cell_type": "code",
   "execution_count": 49,
   "metadata": {},
   "outputs": [
    {
     "data": {
      "text/plain": [
       "'Total number of creatures: 100'"
      ]
     },
     "execution_count": 49,
     "metadata": {},
     "output_type": "execute_result"
    }
   ],
   "source": [
    "total_creatures = df['creature_name'].count()\n",
    "f'Total number of creatures: {total_creatures}'\n",
    "\n"
   ]
  },
  {
   "cell_type": "code",
   "execution_count": 77,
   "metadata": {},
   "outputs": [
    {
     "data": {
      "text/plain": [
       "'Total number of Unicorns: 19'"
      ]
     },
     "execution_count": 77,
     "metadata": {},
     "output_type": "execute_result"
    }
   ],
   "source": [
    "total_Unicorns = df['creature_type'] == 'Unicorn'\n",
    "unicorns_df = df[total_Unicorns]\n",
    "unicorns_df.head()\n",
    "len(unicorns_df)\n",
    "f'Total number of Unicorns: {len(unicorns_df)}'"
   ]
  },
  {
   "cell_type": "code",
   "execution_count": 81,
   "metadata": {},
   "outputs": [
    {
     "data": {
      "text/plain": [
       "creature_type\n",
       "Mermaid    19\n",
       "Unicorn    19\n",
       "Griffin    19\n",
       "Dragon     17\n",
       "Centaur    14\n",
       "Phoenix    12\n",
       "Name: count, dtype: int64"
      ]
     },
     "execution_count": 81,
     "metadata": {},
     "output_type": "execute_result"
    }
   ],
   "source": [
    "df['creature_type'].value_counts()"
   ]
  },
  {
   "cell_type": "markdown",
   "metadata": {},
   "source": [
    "3. Calculate and print the average age of the creatures."
   ]
  },
  {
   "cell_type": "code",
   "execution_count": 4,
   "metadata": {},
   "outputs": [
    {
     "data": {
      "text/plain": [
       "'Average age of creatures: 505.62'"
      ]
     },
     "execution_count": 4,
     "metadata": {},
     "output_type": "execute_result"
    }
   ],
   "source": [
    "average_age = df['age'].mean()\n",
    "f'Average age of creatures: {average_age}'"
   ]
  },
  {
   "cell_type": "markdown",
   "metadata": {},
   "source": [
    "4. Find and print the name of the oldest creature."
   ]
  },
  {
   "cell_type": "code",
   "execution_count": 5,
   "metadata": {},
   "outputs": [
    {
     "data": {
      "text/plain": [
       "'Oldest creature: Creature25'"
      ]
     },
     "execution_count": 5,
     "metadata": {},
     "output_type": "execute_result"
    }
   ],
   "source": [
    "oldest_creature_index = df['age'].idxmax()\n",
    "oldest_creature = df.loc[oldest_creature_index, 'creature_name']\n",
    "f'Oldest creature: {oldest_creature}'"
   ]
  },
  {
   "cell_type": "markdown",
   "metadata": {},
   "source": [
    "5. Identify and print the most common type of creature."
   ]
  },
  {
   "cell_type": "code",
   "execution_count": 8,
   "metadata": {},
   "outputs": [
    {
     "data": {
      "text/plain": [
       "'Most common creature type: Unicorn'"
      ]
     },
     "execution_count": 8,
     "metadata": {},
     "output_type": "execute_result"
    }
   ],
   "source": [
    "common_creature_type = df['creature_type'].mode()[0]\n",
    "f'Most common creature type: {common_creature_type}'"
   ]
  },
  {
   "cell_type": "markdown",
   "metadata": {},
   "source": [
    "6. Find and print the average magical ability score for each type of creature."
   ]
  },
  {
   "cell_type": "code",
   "execution_count": 9,
   "metadata": {},
   "outputs": [
    {
     "data": {
      "text/plain": [
       "creature_type\n",
       "Centaur    43.200000\n",
       "Dragon     40.181818\n",
       "Griffin    41.176471\n",
       "Mermaid    54.000000\n",
       "Phoenix    57.444444\n",
       "Unicorn    48.500000\n",
       "Name: magical_ability_score, dtype: float64"
      ]
     },
     "execution_count": 9,
     "metadata": {},
     "output_type": "execute_result"
    }
   ],
   "source": [
    "average_ability_score = df.groupby('creature_type')['magical_ability_score'].mean()\n",
    "average_ability_score"
   ]
  },
  {
   "cell_type": "markdown",
   "metadata": {},
   "source": [
    "7. Find the names of creatures who have a 'Poor' health status."
   ]
  },
  {
   "cell_type": "code",
   "execution_count": 10,
   "metadata": {},
   "outputs": [
    {
     "data": {
      "text/plain": [
       "6      Creature6\n",
       "9      Creature9\n",
       "13    Creature13\n",
       "16    Creature16\n",
       "18    Creature18\n",
       "22    Creature22\n",
       "39    Creature39\n",
       "41    Creature41\n",
       "42    Creature42\n",
       "45    Creature45\n",
       "49    Creature49\n",
       "50    Creature50\n",
       "51    Creature51\n",
       "52    Creature52\n",
       "53    Creature53\n",
       "54    Creature54\n",
       "55    Creature55\n",
       "58    Creature58\n",
       "64    Creature64\n",
       "65    Creature65\n",
       "69    Creature69\n",
       "70    Creature70\n",
       "72    Creature72\n",
       "73    Creature73\n",
       "78    Creature78\n",
       "79    Creature79\n",
       "82    Creature82\n",
       "83    Creature83\n",
       "91    Creature91\n",
       "93    Creature93\n",
       "94    Creature94\n",
       "97    Creature97\n",
       "Name: creature_name, dtype: object"
      ]
     },
     "execution_count": 10,
     "metadata": {},
     "output_type": "execute_result"
    }
   ],
   "source": [
    "poor_health_creatures = df.loc[df['health_status'] == 'Poor', 'creature_name']\n",
    "poor_health_creatures"
   ]
  },
  {
   "cell_type": "markdown",
   "metadata": {},
   "source": [
    "Remember, the happiness of the mythical creatures is in your hands. Happy analyzing! 💪"
   ]
  }
 ],
 "metadata": {
  "kernelspec": {
   "display_name": "Python 3",
   "language": "python",
   "name": "python3"
  },
  "language_info": {
   "codemirror_mode": {
    "name": "ipython",
    "version": 3
   },
   "file_extension": ".py",
   "mimetype": "text/x-python",
   "name": "python",
   "nbconvert_exporter": "python",
   "pygments_lexer": "ipython3",
   "version": "3.9.19"
  },
  "orig_nbformat": 4
 },
 "nbformat": 4,
 "nbformat_minor": 2
}
